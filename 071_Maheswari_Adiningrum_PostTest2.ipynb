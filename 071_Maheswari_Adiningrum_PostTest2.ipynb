{
  "nbformat": 4,
  "nbformat_minor": 0,
  "metadata": {
    "colab": {
      "provenance": [],
      "include_colab_link": true
    },
    "kernelspec": {
      "name": "python3",
      "display_name": "Python 3"
    },
    "language_info": {
      "name": "python"
    }
  },
  "cells": [
    {
      "cell_type": "markdown",
      "metadata": {
        "id": "view-in-github",
        "colab_type": "text"
      },
      "source": [
        "<a href=\"https://colab.research.google.com/github/MaheswariAdiningrum/datamining/blob/main/071_Maheswari_Adiningrum_PostTest2.ipynb\" target=\"_parent\"><img src=\"https://colab.research.google.com/assets/colab-badge.svg\" alt=\"Open In Colab\"/></a>"
      ]
    },
    {
      "cell_type": "markdown",
      "source": [
        "# (1) Apriori"
      ],
      "metadata": {
        "id": "-0zOQSl3wlwj"
      }
    },
    {
      "cell_type": "markdown",
      "source": [
        "Gunakan dataset ini : https://drive.google.com/file/d/1BqC-2d1ZYqFIFwdjdsW5bAAqNFh2AO4C/view?usp=share_link\n",
        "\n",
        "Dan buatlah daftar support dan confidence untuk 2 item set dengan menggunakan dataset tersebut (hint : buatlah tabel tabulasi terlebih dahulu untuk memudahkan)"
      ],
      "metadata": {
        "id": "h-to2rkExJxa"
      }
    },
    {
      "cell_type": "markdown",
      "source": [
        "# Tabel Tabulasi"
      ],
      "metadata": {
        "id": "49vxRbMCG5S9"
      }
    },
    {
      "cell_type": "code",
      "source": [
        "import pandas as pd\n",
        "from mlxtend.preprocessing import TransactionEncoder\n",
        "from mlxtend.frequent_patterns import apriori, association_rules"
      ],
      "metadata": {
        "id": "DoEAf-SHGvN5"
      },
      "execution_count": 1,
      "outputs": []
    },
    {
      "cell_type": "code",
      "source": [
        "# data yang ada pada list transaksi\n",
        "data = [    ['whole milk', 'pastry', 'salty snack'],\n",
        "    ['sausage', 'whole milk', 'semi-finished bread', 'yogurt'],\n",
        "    ['soda', 'pickled vegetables'],\n",
        "    ['canned beer', 'misc. beverages'],\n",
        "    ['sausage', 'hygiene articles'],\n",
        "    ['sausage', 'whole milk', 'rolls/buns'],\n",
        "    ['whole milk', 'soda'],\n",
        "    ['frankfurter', 'soda', 'whipped/sour cream'],\n",
        "    ['frankfurter', 'curd'],\n",
        "    ['beef', 'white bread'],\n",
        "    ['butter', 'whole milk'],\n",
        "    ['frozen vegetables', 'other vegetables'],\n",
        "    ['tropical fruit', 'sugar'],\n",
        "    ['butter milk', 'specialty chocolate'],\n",
        "    ['frozen meals', 'dental care'],\n",
        "    ['rolls/buns', 'rolls/buns'],\n",
        "    ['root vegetables', 'detergent'],\n",
        "    ['sausage', 'rolls/buns'],\n",
        "    ['dish cleaner', 'cling film/bags'],\n",
        "]\n",
        "\n",
        "print(\"\\nTABULASI\")\n",
        "df = pd.DataFrame(data)\n",
        "df = pd.get_dummies(df.stack()).sum(level=0)\n",
        "print(df)"
      ],
      "metadata": {
        "colab": {
          "base_uri": "https://localhost:8080/"
        },
        "id": "JMpUtsztG8sR",
        "outputId": "9edd39a1-a709-4f17-9408-688c304e4b43"
      },
      "execution_count": 2,
      "outputs": [
        {
          "output_type": "stream",
          "name": "stdout",
          "text": [
            "\n",
            "TABULASI\n",
            "    beef  butter  butter milk  canned beer  cling film/bags  curd  \\\n",
            "0      0       0            0            0                0     0   \n",
            "1      0       0            0            0                0     0   \n",
            "2      0       0            0            0                0     0   \n",
            "3      0       0            0            1                0     0   \n",
            "4      0       0            0            0                0     0   \n",
            "5      0       0            0            0                0     0   \n",
            "6      0       0            0            0                0     0   \n",
            "7      0       0            0            0                0     0   \n",
            "8      0       0            0            0                0     1   \n",
            "9      1       0            0            0                0     0   \n",
            "10     0       1            0            0                0     0   \n",
            "11     0       0            0            0                0     0   \n",
            "12     0       0            0            0                0     0   \n",
            "13     0       0            1            0                0     0   \n",
            "14     0       0            0            0                0     0   \n",
            "15     0       0            0            0                0     0   \n",
            "16     0       0            0            0                0     0   \n",
            "17     0       0            0            0                0     0   \n",
            "18     0       0            0            0                1     0   \n",
            "\n",
            "    dental care  detergent  dish cleaner  frankfurter  ...  sausage  \\\n",
            "0             0          0             0            0  ...        0   \n",
            "1             0          0             0            0  ...        1   \n",
            "2             0          0             0            0  ...        0   \n",
            "3             0          0             0            0  ...        0   \n",
            "4             0          0             0            0  ...        1   \n",
            "5             0          0             0            0  ...        1   \n",
            "6             0          0             0            0  ...        0   \n",
            "7             0          0             0            1  ...        0   \n",
            "8             0          0             0            1  ...        0   \n",
            "9             0          0             0            0  ...        0   \n",
            "10            0          0             0            0  ...        0   \n",
            "11            0          0             0            0  ...        0   \n",
            "12            0          0             0            0  ...        0   \n",
            "13            0          0             0            0  ...        0   \n",
            "14            1          0             0            0  ...        0   \n",
            "15            0          0             0            0  ...        0   \n",
            "16            0          1             0            0  ...        0   \n",
            "17            0          0             0            0  ...        1   \n",
            "18            0          0             1            0  ...        0   \n",
            "\n",
            "    semi-finished bread  soda  specialty chocolate  sugar  tropical fruit  \\\n",
            "0                     0     0                    0      0               0   \n",
            "1                     1     0                    0      0               0   \n",
            "2                     0     1                    0      0               0   \n",
            "3                     0     0                    0      0               0   \n",
            "4                     0     0                    0      0               0   \n",
            "5                     0     0                    0      0               0   \n",
            "6                     0     1                    0      0               0   \n",
            "7                     0     1                    0      0               0   \n",
            "8                     0     0                    0      0               0   \n",
            "9                     0     0                    0      0               0   \n",
            "10                    0     0                    0      0               0   \n",
            "11                    0     0                    0      0               0   \n",
            "12                    0     0                    0      1               1   \n",
            "13                    0     0                    1      0               0   \n",
            "14                    0     0                    0      0               0   \n",
            "15                    0     0                    0      0               0   \n",
            "16                    0     0                    0      0               0   \n",
            "17                    0     0                    0      0               0   \n",
            "18                    0     0                    0      0               0   \n",
            "\n",
            "    whipped/sour cream  white bread  whole milk  yogurt  \n",
            "0                    0            0           1       0  \n",
            "1                    0            0           1       1  \n",
            "2                    0            0           0       0  \n",
            "3                    0            0           0       0  \n",
            "4                    0            0           0       0  \n",
            "5                    0            0           1       0  \n",
            "6                    0            0           1       0  \n",
            "7                    1            0           0       0  \n",
            "8                    0            0           0       0  \n",
            "9                    0            1           0       0  \n",
            "10                   0            0           1       0  \n",
            "11                   0            0           0       0  \n",
            "12                   0            0           0       0  \n",
            "13                   0            0           0       0  \n",
            "14                   0            0           0       0  \n",
            "15                   0            0           0       0  \n",
            "16                   0            0           0       0  \n",
            "17                   0            0           0       0  \n",
            "18                   0            0           0       0  \n",
            "\n",
            "[19 rows x 30 columns]\n"
          ]
        },
        {
          "output_type": "stream",
          "name": "stderr",
          "text": [
            "<ipython-input-2-9d89c810eca5>:25: FutureWarning: Using the level keyword in DataFrame and Series aggregations is deprecated and will be removed in a future version. Use groupby instead. df.sum(level=1) should use df.groupby(level=1).sum().\n",
            "  df = pd.get_dummies(df.stack()).sum(level=0)\n"
          ]
        }
      ]
    },
    {
      "cell_type": "markdown",
      "source": [
        "# Data Support & Confident"
      ],
      "metadata": {
        "id": "t6Tj6-fdHX-m"
      }
    },
    {
      "cell_type": "code",
      "source": [
        "# data yang ada pada list transaksi\n",
        "data = [    ['whole milk', 'pastry', 'salty snack'],\n",
        "    ['sausage', 'whole milk', 'semi-finished bread', 'yogurt'],\n",
        "    ['soda', 'pickled vegetables'],\n",
        "    ['canned beer', 'misc. beverages'],\n",
        "    ['sausage', 'hygiene articles'],\n",
        "    ['sausage', 'whole milk', 'rolls/buns'],\n",
        "    ['whole milk', 'soda'],\n",
        "    ['frankfurter', 'soda', 'whipped/sour cream'],\n",
        "    ['frankfurter', 'curd'],\n",
        "    ['beef', 'white bread'],\n",
        "    ['butter', 'whole milk'],\n",
        "    ['frozen vegetables', 'other vegetables'],\n",
        "    ['tropical fruit', 'sugar'],\n",
        "    ['butter milk', 'specialty chocolate'],\n",
        "    ['frozen meals', 'dental care'],\n",
        "    ['rolls/buns', 'rolls/buns'],\n",
        "    ['root vegetables', 'detergent'],\n",
        "    ['sausage', 'rolls/buns'],\n",
        "    ['dish cleaner', 'cling film/bags'],\n",
        "]\n",
        "\n",
        "# convert data to one-hot encoding format\n",
        "te = TransactionEncoder()\n",
        "te_ary = te.fit(data).transform(data)\n",
        "df = pd.DataFrame(te_ary, columns=te.columns_)\n",
        "\n",
        "# mencari seberapa sering data itemset (support) muncul dengan algoritma apriori\n",
        "frequent_itemsets = apriori(df, min_support=0.05, use_colnames=True)\n",
        "\n",
        "# mencari association rules dengan algoritma Association Rule Mining \n",
        "rules = association_rules(frequent_itemsets, metric=\"confidence\", min_threshold=0.5)\n",
        "\n",
        "# membuat tabel support dari itemset\n",
        "df_support = frequent_itemsets\n",
        "df_support['support'] = df_support['support'].apply(lambda x: \"{:.2f}%\".format(x*100))\n",
        "df_support = df_support.rename(columns={\"itemsets\": \"itemset\"})\n",
        "df_support = df_support.set_index('itemset')\n",
        "print(df_support)\n",
        "\n",
        "# membuat tabel support dan confidence untuk rules\n",
        "df_rules = pd.DataFrame(rules, columns=['antecedents', 'consequents', 'support', 'confidence', 'lift'])\n",
        "\n",
        "# filter rules with only one antecedent and one consequent\n",
        "df_rules = df_rules[df_rules['antecedents'].apply(lambda x: len(x) == 1) & df_rules['consequents'].apply(lambda x: len(x) == 1)]\n",
        "\n",
        "# format antecedent and consequent columns\n",
        "df_rules['antecedents'] = df_rules['antecedents'].apply(lambda x: list(x)[0])\n",
        "df_rules['consequents'] = df_rules['consequents'].apply(lambda x: list(x)[0])\n",
        "\n",
        "# set antecedent as index and sort by confidence\n",
        "df_rules = df_rules.set_index('antecedents')\n",
        "df_rules = df_rules.sort_values(by=['confidence'], ascending=False)\n",
        "\n",
        "# create table of support and confidence for filtered rules\n",
        "df_rules = df_rules[['consequents', 'support', 'confidence']]\n",
        "df_rules['support'] = df_rules['support'].apply(lambda x: \"{:.2f}%\".format(x*100))\n",
        "df_rules['confidence'] = df_rules['confidence'].apply(lambda x: \"{:.2f}%\".format(x*100))\n",
        "print(\"\\n\")\n",
        "print(\"HASIL SUPPORT DAN CONFIDENCE\")\n",
        "print(\"\\n\")\n",
        "\n",
        "print(df_rules)"
      ],
      "metadata": {
        "colab": {
          "base_uri": "https://localhost:8080/"
        },
        "id": "MBPWRi0ZHdI4",
        "outputId": "53c0acd4-62ae-4da2-a8d9-9e83cb8f464a"
      },
      "execution_count": 3,
      "outputs": [
        {
          "output_type": "stream",
          "name": "stdout",
          "text": [
            "                                                   support\n",
            "itemset                                                   \n",
            "(beef)                                               5.26%\n",
            "(butter)                                             5.26%\n",
            "(butter milk)                                        5.26%\n",
            "(canned beer)                                        5.26%\n",
            "(cling film/bags)                                    5.26%\n",
            "...                                                    ...\n",
            "(sausage, whole milk, semi-finished bread)           5.26%\n",
            "(yogurt, sausage, semi-finished bread)               5.26%\n",
            "(yogurt, sausage, whole milk)                        5.26%\n",
            "(yogurt, whole milk, semi-finished bread)            5.26%\n",
            "(yogurt, sausage, whole milk, semi-finished bread)   5.26%\n",
            "\n",
            "[65 rows x 1 columns]\n",
            "\n",
            "\n",
            "HASIL SUPPORT DAN CONFIDENCE\n",
            "\n",
            "\n",
            "                             consequents support confidence\n",
            "antecedents                                                \n",
            "white bread                         beef   5.26%    100.00%\n",
            "semi-finished bread              sausage   5.26%    100.00%\n",
            "hygiene articles                 sausage   5.26%    100.00%\n",
            "salty snack                       pastry   5.26%    100.00%\n",
            "pastry                       salty snack   5.26%    100.00%\n",
            "pastry                        whole milk   5.26%    100.00%\n",
            "pickled vegetables                  soda   5.26%    100.00%\n",
            "salty snack                   whole milk   5.26%    100.00%\n",
            "yogurt                           sausage   5.26%    100.00%\n",
            "frozen vegetables       other vegetables   5.26%    100.00%\n",
            "semi-finished bread           whole milk   5.26%    100.00%\n",
            "yogurt               semi-finished bread   5.26%    100.00%\n",
            "semi-finished bread               yogurt   5.26%    100.00%\n",
            "whipped/sour cream                  soda   5.26%    100.00%\n",
            "tropical fruit                     sugar   5.26%    100.00%\n",
            "sugar                     tropical fruit   5.26%    100.00%\n",
            "beef                         white bread   5.26%    100.00%\n",
            "other vegetables       frozen vegetables   5.26%    100.00%\n",
            "curd                         frankfurter   5.26%    100.00%\n",
            "whipped/sour cream           frankfurter   5.26%    100.00%\n",
            "butter                        whole milk   5.26%    100.00%\n",
            "butter milk          specialty chocolate   5.26%    100.00%\n",
            "specialty chocolate          butter milk   5.26%    100.00%\n",
            "canned beer              misc. beverages   5.26%    100.00%\n",
            "misc. beverages              canned beer   5.26%    100.00%\n",
            "cling film/bags             dish cleaner   5.26%    100.00%\n",
            "dish cleaner             cling film/bags   5.26%    100.00%\n",
            "yogurt                        whole milk   5.26%    100.00%\n",
            "dental care                 frozen meals   5.26%    100.00%\n",
            "frozen meals                 dental care   5.26%    100.00%\n",
            "detergent                root vegetables   5.26%    100.00%\n",
            "root vegetables                detergent   5.26%    100.00%\n",
            "rolls/buns                       sausage  10.53%     66.67%\n",
            "frankfurter                         curd   5.26%     50.00%\n",
            "sausage                       whole milk  10.53%     50.00%\n",
            "sausage                       rolls/buns  10.53%     50.00%\n",
            "frankfurter                         soda   5.26%     50.00%\n",
            "frankfurter           whipped/sour cream   5.26%     50.00%\n"
          ]
        }
      ]
    },
    {
      "cell_type": "markdown",
      "source": [
        "#(2) KNN\n",
        "\n",
        "Gunakan dataset ini : https://drive.google.com/file/d/1pXAJZZXCXosf0PTJkyogopKaPFxCYl22/view?usp=share_link\n",
        "\n",
        "Kemudian buatlah tabel jarak berdasarkan data berikut ini : \n",
        "\n",
        "![Gambar](data:image/png;base64,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)\n",
        "<!-- 1412 -->"
      ],
      "metadata": {
        "id": "wEgfTlH7xlgG"
      }
    },
    {
      "cell_type": "code",
      "source": [
        "import pandas as pd\n",
        "import math\n",
        "\n",
        "# Membuat data frame\n",
        "df = pd.read_csv('deteksi_uang_palsu.csv')\n",
        "\n",
        "# Menentukan target prediksi\n",
        "target = {'height_left': 172.25,\n",
        "          'height_right': 103.94,\n",
        "          'margin_low': 103.68,\n",
        "          'margin_up': 4.14,\n",
        "          'length': 3.25}\n",
        "\n",
        "# Membuat kolom jarak\n",
        "df['jarak'] = df.apply(lambda x: math.sqrt((x['height_left'] - target['height_left'])**2 + \n",
        "                                           (x['height_right'] - target['height_right'])**2 + \n",
        "                                           (x['margin_low'] - target['margin_low'])**2 + \n",
        "                                           (x['margin_up'] - target['margin_up'])**2 + \n",
        "                                           (x['length'] - target['length'])**2), axis=1)\n",
        "\n",
        "# Menampilkan tabel jarak\n",
        "print(df)"
      ],
      "metadata": {
        "colab": {
          "base_uri": "https://localhost:8080/"
        },
        "id": "woOXikjaJSy2",
        "outputId": "9e4c97c2-b6a9-44ca-f806-f8bbabbe4446"
      },
      "execution_count": 4,
      "outputs": [
        {
          "output_type": "stream",
          "name": "stdout",
          "text": [
            "   is_genuine  diagonal  height_left  height_right  margin_low  margin_up  \\\n",
            "0        True    172.06       104.24        103.66        4.24       3.10   \n",
            "1        True    171.66       103.68        103.41        4.35       3.33   \n",
            "2        True    172.23       104.00        103.35        4.43       2.95   \n",
            "3        True    172.07       104.21        103.82        4.29       3.35   \n",
            "4        True    171.79       104.57        104.04        4.26       3.15   \n",
            "5       False    172.00       104.23        104.52        5.76       3.37   \n",
            "6       False    171.56       104.03        103.93        5.47       3.50   \n",
            "7       False    171.90       104.33        104.40        4.70       3.31   \n",
            "8       False    171.84       104.06        104.10        4.87       3.25   \n",
            "9       False    172.11       104.14        104.15        4.84       3.28   \n",
            "\n",
            "   length       jarak  \n",
            "0  113.02  162.985541  \n",
            "1  113.74  163.637621  \n",
            "2  113.12  163.039278  \n",
            "3  113.30  163.154696  \n",
            "4  113.46  163.132317  \n",
            "5  110.94  160.664595  \n",
            "6  111.67  161.413998  \n",
            "7  112.12  162.060927  \n",
            "8  111.04  161.346813  \n",
            "9  110.98  161.291210  \n"
          ]
        }
      ]
    },
    {
      "cell_type": "code",
      "source": [
        "import pandas as pd\n",
        "import math\n",
        "\n",
        "# load data\n",
        "df = pd.read_csv(\"deteksi_uang_palsu.csv\")\n",
        "\n",
        "# hitung jarak dari setiap data terhadap target prediksi\n",
        "target = [172.25, 103.94, 103.68, 4.14, 3.25, 112.48]\n",
        "jarak = []\n",
        "for i in range(len(df)):\n",
        "    d = 0\n",
        "    for j in range(1, 7):\n",
        "        d += (df.iloc[i, j] - target[j-1])**2\n",
        "    jarak.append(math.sqrt(d))\n",
        "df['jarak'] = jarak\n",
        "\n",
        "# urutkan data berdasarkan jarak terdekat\n",
        "K = int(math.sqrt(len(df)))\n",
        "df_sorted = df.sort_values(by='jarak').head(K)\n",
        "\n",
        "# tampilkan data terurut\n",
        "print(df_sorted)\n",
        "\n",
        "\n",
        "# Menghitung jumlah nilai True dan False untuk K terdekat\n",
        "num_true = len(df_sorted[df_sorted[\"is_genuine\"] == True])\n",
        "num_false = len(df_sorted[df_sorted[\"is_genuine\"] == False])\n",
        "print(\"\\n\")\n",
        "print(\"Jumlah True: \", num_true)\n",
        "print(\"Jumlah False: \", num_false)"
      ],
      "metadata": {
        "colab": {
          "base_uri": "https://localhost:8080/"
        },
        "id": "u1s_GSQOJdWS",
        "outputId": "c84de7f5-2c07-4b00-f1ed-e3c264738d13"
      },
      "execution_count": 5,
      "outputs": [
        {
          "output_type": "stream",
          "name": "stdout",
          "text": [
            "   is_genuine  diagonal  height_left  height_right  margin_low  margin_up  \\\n",
            "0        True    172.06       104.24        103.66        4.24       3.10   \n",
            "2        True    172.23       104.00        103.35        4.43       2.95   \n",
            "3        True    172.07       104.21        103.82        4.29       3.35   \n",
            "\n",
            "   length     jarak  \n",
            "0  113.02  0.671267  \n",
            "2  113.12  0.834626  \n",
            "3  113.30  0.910934  \n",
            "\n",
            "\n",
            "Jumlah True:  3\n",
            "Jumlah False:  0\n"
          ]
        }
      ]
    },
    {
      "cell_type": "code",
      "source": [
        "# Mengambil Data Terdekat Dengan Target\n",
        "data = pd.read_csv(\"deteksi_uang_palsu.csv\")\n",
        "\n",
        "test_data = pd.DataFrame({\n",
        "    'is_genuine': [True],\n",
        "    'diagonal': [172.20],\n",
        "    'height_left': [104.12],\n",
        "    'height_right': [103.64],\n",
        "    'margin_low': [4.38],\n",
        "    'margin_up': [3.00],\n",
        "    'length': [113.18]\n",
        "})\n",
        "\n",
        "# Menghitung Jarak\n",
        "distances = pd.DataFrame()\n",
        "distances['distance'] = ((data.iloc[:,1:] - test_data.iloc[:,1:])**2).sum(axis=1)**0.5\n",
        "\n",
        "# Menambahkan Kolom Jarak ke Data\n",
        "data['distance'] = distances['distance']\n",
        "\n",
        "# Mengurutkan Data Berdasarkan Jarak Terdekat\n",
        "k = int(math.sqrt(len(data)))\n",
        "sorted_data = data.sort_values(by='distance').head(k)\n",
        "\n",
        "# Melakukan Klasifikasi Berdasarkan Mayoritas Kelas\n",
        "pred_label = sorted_data['is_genuine'].value_counts().idxmax()\n",
        "\n",
        "# Menampilkan Hasil Prediksi\n",
        "print(\"Hasil prediksi: \", pred_label)"
      ],
      "metadata": {
        "colab": {
          "base_uri": "https://localhost:8080/"
        },
        "id": "RqYJoiUlJgIg",
        "outputId": "e430de58-064f-49f6-88ca-0ca79c671c29"
      },
      "execution_count": 6,
      "outputs": [
        {
          "output_type": "stream",
          "name": "stdout",
          "text": [
            "Hasil prediksi:  True\n"
          ]
        }
      ]
    },
    {
      "cell_type": "markdown",
      "source": [
        "# (3) Analisis"
      ],
      "metadata": {
        "id": "F0N-LXThwiqD"
      }
    },
    {
      "cell_type": "markdown",
      "source": [
        "> Nama : Maheswari Adiningrum\n",
        "\n",
        "> Nim : 2109116071\n"
      ],
      "metadata": {
        "id": "dItRdcTguaHj"
      }
    },
    {
      "cell_type": "markdown",
      "source": [
        "Penjelasan posttest : \n",
        "\n",
        "Pilihlah salah satu tema dari daftar tema ini :  \n",
        "1. Perbankan\n",
        "2. Kesehatan\n",
        "3. Ritel\n",
        "4. Pendidkan\n",
        "\n",
        "Kemudian lakukan analisis dengan menggunakan struktur CRISP-DM\n",
        "\n",
        "Dimulai dari Business Understanding Hingga Data Preparation \n",
        "<img src=\"https://th.bing.com/th/id/R.f8efea41ae3cd96d86fbc5b10f81ad77?rik=K4Dr%2biIaVGvW8g&riu=http%3a%2f%2fwww.dataprix.com%2ffiles%2fCRISPDM%2fMetodologia_CRISP_DM1_html_52cdbecf.png&ehk=6ONLJMCVxE421Sjt2JJPE6MfCzrL7LLhDZQPdkJTLcw%3d&risl=&pid=ImgRaw&r=0\"/>\n",
        "\n",
        "Tentukan judul dengan ketentuan setiap orang di kelas beda-beda judulnya dan sumber datasetnya (contoh bisa prediksi atau aturan asosiasi)\n",
        "\n",
        "Catatan : Tugas ini akan berhubungan dengan posttest terakhir (pertemuan 6)"
      ],
      "metadata": {
        "id": "Vbv4o0Q2uiXZ"
      }
    },
    {
      "cell_type": "markdown",
      "source": [
        "# **Penyakit Ginjal Kronis**\n",
        "\n"
      ],
      "metadata": {
        "id": "1Poxif67J_Q3"
      }
    },
    {
      "cell_type": "markdown",
      "source": [
        "# **Bussines Understanding**"
      ],
      "metadata": {
        "id": "KRseDMJAKFhT"
      }
    },
    {
      "cell_type": "markdown",
      "source": [
        "Dataset ini adalah kumpulan data pasien yang memeriksakan keadaan kesehatan mereka untuk diuji apakah terjangkit penyakit ginjal kronis atau tidak"
      ],
      "metadata": {
        "id": "qXwpy3jvKMe1"
      }
    },
    {
      "cell_type": "markdown",
      "source": [
        "# Data Understanding"
      ],
      "metadata": {
        "id": "1VZ2J_ViK8WS"
      }
    },
    {
      "cell_type": "code",
      "source": [
        "import pandas as pd"
      ],
      "metadata": {
        "id": "8BBsARl3LBIH"
      },
      "execution_count": null,
      "outputs": []
    },
    {
      "cell_type": "code",
      "source": [
        "df = pd.read_csv(\"new_model.csv\")\n",
        "df"
      ],
      "metadata": {
        "colab": {
          "base_uri": "https://localhost:8080/",
          "height": 424
        },
        "id": "Svz1CHrOLGPy",
        "outputId": "e095b096-dab5-4fc3-9237-f256fb4a236d"
      },
      "execution_count": 7,
      "outputs": [
        {
          "output_type": "execute_result",
          "data": {
            "text/plain": [
              "       Bp     Sg   Al   Su  Rbc    Bu   Sc     Sod   Pot  Hemo    Wbcc  Rbcc  \\\n",
              "0    80.0  1.020  1.0  0.0  1.0  36.0  1.2  137.53  4.63  15.4  7800.0  5.20   \n",
              "1    50.0  1.020  4.0  0.0  1.0  18.0  0.8  137.53  4.63  11.3  6000.0  4.71   \n",
              "2    80.0  1.010  2.0  3.0  1.0  53.0  1.8  137.53  4.63   9.6  7500.0  4.71   \n",
              "3    70.0  1.005  4.0  0.0  1.0  56.0  3.8  111.00  2.50  11.2  6700.0  3.90   \n",
              "4    80.0  1.010  2.0  0.0  1.0  26.0  1.4  137.53  4.63  11.6  7300.0  4.60   \n",
              "..    ...    ...  ...  ...  ...   ...  ...     ...   ...   ...     ...   ...   \n",
              "395  80.0  1.020  0.0  0.0  1.0  49.0  0.5  150.00  4.90  15.7  6700.0  4.90   \n",
              "396  70.0  1.025  0.0  0.0  1.0  31.0  1.2  141.00  3.50  16.5  7800.0  6.20   \n",
              "397  80.0  1.020  0.0  0.0  1.0  26.0  0.6  137.00  4.40  15.8  6600.0  5.40   \n",
              "398  60.0  1.025  0.0  0.0  1.0  50.0  1.0  135.00  4.90  14.2  7200.0  5.90   \n",
              "399  80.0  1.025  0.0  0.0  1.0  18.0  1.1  141.00  3.50  15.8  6800.0  6.10   \n",
              "\n",
              "     Htn  Class  \n",
              "0    1.0      1  \n",
              "1    0.0      1  \n",
              "2    0.0      1  \n",
              "3    1.0      1  \n",
              "4    0.0      1  \n",
              "..   ...    ...  \n",
              "395  0.0      0  \n",
              "396  0.0      0  \n",
              "397  0.0      0  \n",
              "398  0.0      0  \n",
              "399  0.0      0  \n",
              "\n",
              "[400 rows x 14 columns]"
            ],
            "text/html": [
              "\n",
              "  <div id=\"df-3dcd4b3d-c81e-4882-a246-843adcc51965\">\n",
              "    <div class=\"colab-df-container\">\n",
              "      <div>\n",
              "<style scoped>\n",
              "    .dataframe tbody tr th:only-of-type {\n",
              "        vertical-align: middle;\n",
              "    }\n",
              "\n",
              "    .dataframe tbody tr th {\n",
              "        vertical-align: top;\n",
              "    }\n",
              "\n",
              "    .dataframe thead th {\n",
              "        text-align: right;\n",
              "    }\n",
              "</style>\n",
              "<table border=\"1\" class=\"dataframe\">\n",
              "  <thead>\n",
              "    <tr style=\"text-align: right;\">\n",
              "      <th></th>\n",
              "      <th>Bp</th>\n",
              "      <th>Sg</th>\n",
              "      <th>Al</th>\n",
              "      <th>Su</th>\n",
              "      <th>Rbc</th>\n",
              "      <th>Bu</th>\n",
              "      <th>Sc</th>\n",
              "      <th>Sod</th>\n",
              "      <th>Pot</th>\n",
              "      <th>Hemo</th>\n",
              "      <th>Wbcc</th>\n",
              "      <th>Rbcc</th>\n",
              "      <th>Htn</th>\n",
              "      <th>Class</th>\n",
              "    </tr>\n",
              "  </thead>\n",
              "  <tbody>\n",
              "    <tr>\n",
              "      <th>0</th>\n",
              "      <td>80.0</td>\n",
              "      <td>1.020</td>\n",
              "      <td>1.0</td>\n",
              "      <td>0.0</td>\n",
              "      <td>1.0</td>\n",
              "      <td>36.0</td>\n",
              "      <td>1.2</td>\n",
              "      <td>137.53</td>\n",
              "      <td>4.63</td>\n",
              "      <td>15.4</td>\n",
              "      <td>7800.0</td>\n",
              "      <td>5.20</td>\n",
              "      <td>1.0</td>\n",
              "      <td>1</td>\n",
              "    </tr>\n",
              "    <tr>\n",
              "      <th>1</th>\n",
              "      <td>50.0</td>\n",
              "      <td>1.020</td>\n",
              "      <td>4.0</td>\n",
              "      <td>0.0</td>\n",
              "      <td>1.0</td>\n",
              "      <td>18.0</td>\n",
              "      <td>0.8</td>\n",
              "      <td>137.53</td>\n",
              "      <td>4.63</td>\n",
              "      <td>11.3</td>\n",
              "      <td>6000.0</td>\n",
              "      <td>4.71</td>\n",
              "      <td>0.0</td>\n",
              "      <td>1</td>\n",
              "    </tr>\n",
              "    <tr>\n",
              "      <th>2</th>\n",
              "      <td>80.0</td>\n",
              "      <td>1.010</td>\n",
              "      <td>2.0</td>\n",
              "      <td>3.0</td>\n",
              "      <td>1.0</td>\n",
              "      <td>53.0</td>\n",
              "      <td>1.8</td>\n",
              "      <td>137.53</td>\n",
              "      <td>4.63</td>\n",
              "      <td>9.6</td>\n",
              "      <td>7500.0</td>\n",
              "      <td>4.71</td>\n",
              "      <td>0.0</td>\n",
              "      <td>1</td>\n",
              "    </tr>\n",
              "    <tr>\n",
              "      <th>3</th>\n",
              "      <td>70.0</td>\n",
              "      <td>1.005</td>\n",
              "      <td>4.0</td>\n",
              "      <td>0.0</td>\n",
              "      <td>1.0</td>\n",
              "      <td>56.0</td>\n",
              "      <td>3.8</td>\n",
              "      <td>111.00</td>\n",
              "      <td>2.50</td>\n",
              "      <td>11.2</td>\n",
              "      <td>6700.0</td>\n",
              "      <td>3.90</td>\n",
              "      <td>1.0</td>\n",
              "      <td>1</td>\n",
              "    </tr>\n",
              "    <tr>\n",
              "      <th>4</th>\n",
              "      <td>80.0</td>\n",
              "      <td>1.010</td>\n",
              "      <td>2.0</td>\n",
              "      <td>0.0</td>\n",
              "      <td>1.0</td>\n",
              "      <td>26.0</td>\n",
              "      <td>1.4</td>\n",
              "      <td>137.53</td>\n",
              "      <td>4.63</td>\n",
              "      <td>11.6</td>\n",
              "      <td>7300.0</td>\n",
              "      <td>4.60</td>\n",
              "      <td>0.0</td>\n",
              "      <td>1</td>\n",
              "    </tr>\n",
              "    <tr>\n",
              "      <th>...</th>\n",
              "      <td>...</td>\n",
              "      <td>...</td>\n",
              "      <td>...</td>\n",
              "      <td>...</td>\n",
              "      <td>...</td>\n",
              "      <td>...</td>\n",
              "      <td>...</td>\n",
              "      <td>...</td>\n",
              "      <td>...</td>\n",
              "      <td>...</td>\n",
              "      <td>...</td>\n",
              "      <td>...</td>\n",
              "      <td>...</td>\n",
              "      <td>...</td>\n",
              "    </tr>\n",
              "    <tr>\n",
              "      <th>395</th>\n",
              "      <td>80.0</td>\n",
              "      <td>1.020</td>\n",
              "      <td>0.0</td>\n",
              "      <td>0.0</td>\n",
              "      <td>1.0</td>\n",
              "      <td>49.0</td>\n",
              "      <td>0.5</td>\n",
              "      <td>150.00</td>\n",
              "      <td>4.90</td>\n",
              "      <td>15.7</td>\n",
              "      <td>6700.0</td>\n",
              "      <td>4.90</td>\n",
              "      <td>0.0</td>\n",
              "      <td>0</td>\n",
              "    </tr>\n",
              "    <tr>\n",
              "      <th>396</th>\n",
              "      <td>70.0</td>\n",
              "      <td>1.025</td>\n",
              "      <td>0.0</td>\n",
              "      <td>0.0</td>\n",
              "      <td>1.0</td>\n",
              "      <td>31.0</td>\n",
              "      <td>1.2</td>\n",
              "      <td>141.00</td>\n",
              "      <td>3.50</td>\n",
              "      <td>16.5</td>\n",
              "      <td>7800.0</td>\n",
              "      <td>6.20</td>\n",
              "      <td>0.0</td>\n",
              "      <td>0</td>\n",
              "    </tr>\n",
              "    <tr>\n",
              "      <th>397</th>\n",
              "      <td>80.0</td>\n",
              "      <td>1.020</td>\n",
              "      <td>0.0</td>\n",
              "      <td>0.0</td>\n",
              "      <td>1.0</td>\n",
              "      <td>26.0</td>\n",
              "      <td>0.6</td>\n",
              "      <td>137.00</td>\n",
              "      <td>4.40</td>\n",
              "      <td>15.8</td>\n",
              "      <td>6600.0</td>\n",
              "      <td>5.40</td>\n",
              "      <td>0.0</td>\n",
              "      <td>0</td>\n",
              "    </tr>\n",
              "    <tr>\n",
              "      <th>398</th>\n",
              "      <td>60.0</td>\n",
              "      <td>1.025</td>\n",
              "      <td>0.0</td>\n",
              "      <td>0.0</td>\n",
              "      <td>1.0</td>\n",
              "      <td>50.0</td>\n",
              "      <td>1.0</td>\n",
              "      <td>135.00</td>\n",
              "      <td>4.90</td>\n",
              "      <td>14.2</td>\n",
              "      <td>7200.0</td>\n",
              "      <td>5.90</td>\n",
              "      <td>0.0</td>\n",
              "      <td>0</td>\n",
              "    </tr>\n",
              "    <tr>\n",
              "      <th>399</th>\n",
              "      <td>80.0</td>\n",
              "      <td>1.025</td>\n",
              "      <td>0.0</td>\n",
              "      <td>0.0</td>\n",
              "      <td>1.0</td>\n",
              "      <td>18.0</td>\n",
              "      <td>1.1</td>\n",
              "      <td>141.00</td>\n",
              "      <td>3.50</td>\n",
              "      <td>15.8</td>\n",
              "      <td>6800.0</td>\n",
              "      <td>6.10</td>\n",
              "      <td>0.0</td>\n",
              "      <td>0</td>\n",
              "    </tr>\n",
              "  </tbody>\n",
              "</table>\n",
              "<p>400 rows × 14 columns</p>\n",
              "</div>\n",
              "      <button class=\"colab-df-convert\" onclick=\"convertToInteractive('df-3dcd4b3d-c81e-4882-a246-843adcc51965')\"\n",
              "              title=\"Convert this dataframe to an interactive table.\"\n",
              "              style=\"display:none;\">\n",
              "        \n",
              "  <svg xmlns=\"http://www.w3.org/2000/svg\" height=\"24px\"viewBox=\"0 0 24 24\"\n",
              "       width=\"24px\">\n",
              "    <path d=\"M0 0h24v24H0V0z\" fill=\"none\"/>\n",
              "    <path d=\"M18.56 5.44l.94 2.06.94-2.06 2.06-.94-2.06-.94-.94-2.06-.94 2.06-2.06.94zm-11 1L8.5 8.5l.94-2.06 2.06-.94-2.06-.94L8.5 2.5l-.94 2.06-2.06.94zm10 10l.94 2.06.94-2.06 2.06-.94-2.06-.94-.94-2.06-.94 2.06-2.06.94z\"/><path d=\"M17.41 7.96l-1.37-1.37c-.4-.4-.92-.59-1.43-.59-.52 0-1.04.2-1.43.59L10.3 9.45l-7.72 7.72c-.78.78-.78 2.05 0 2.83L4 21.41c.39.39.9.59 1.41.59.51 0 1.02-.2 1.41-.59l7.78-7.78 2.81-2.81c.8-.78.8-2.07 0-2.86zM5.41 20L4 18.59l7.72-7.72 1.47 1.35L5.41 20z\"/>\n",
              "  </svg>\n",
              "      </button>\n",
              "      \n",
              "  <style>\n",
              "    .colab-df-container {\n",
              "      display:flex;\n",
              "      flex-wrap:wrap;\n",
              "      gap: 12px;\n",
              "    }\n",
              "\n",
              "    .colab-df-convert {\n",
              "      background-color: #E8F0FE;\n",
              "      border: none;\n",
              "      border-radius: 50%;\n",
              "      cursor: pointer;\n",
              "      display: none;\n",
              "      fill: #1967D2;\n",
              "      height: 32px;\n",
              "      padding: 0 0 0 0;\n",
              "      width: 32px;\n",
              "    }\n",
              "\n",
              "    .colab-df-convert:hover {\n",
              "      background-color: #E2EBFA;\n",
              "      box-shadow: 0px 1px 2px rgba(60, 64, 67, 0.3), 0px 1px 3px 1px rgba(60, 64, 67, 0.15);\n",
              "      fill: #174EA6;\n",
              "    }\n",
              "\n",
              "    [theme=dark] .colab-df-convert {\n",
              "      background-color: #3B4455;\n",
              "      fill: #D2E3FC;\n",
              "    }\n",
              "\n",
              "    [theme=dark] .colab-df-convert:hover {\n",
              "      background-color: #434B5C;\n",
              "      box-shadow: 0px 1px 3px 1px rgba(0, 0, 0, 0.15);\n",
              "      filter: drop-shadow(0px 1px 2px rgba(0, 0, 0, 0.3));\n",
              "      fill: #FFFFFF;\n",
              "    }\n",
              "  </style>\n",
              "\n",
              "      <script>\n",
              "        const buttonEl =\n",
              "          document.querySelector('#df-3dcd4b3d-c81e-4882-a246-843adcc51965 button.colab-df-convert');\n",
              "        buttonEl.style.display =\n",
              "          google.colab.kernel.accessAllowed ? 'block' : 'none';\n",
              "\n",
              "        async function convertToInteractive(key) {\n",
              "          const element = document.querySelector('#df-3dcd4b3d-c81e-4882-a246-843adcc51965');\n",
              "          const dataTable =\n",
              "            await google.colab.kernel.invokeFunction('convertToInteractive',\n",
              "                                                     [key], {});\n",
              "          if (!dataTable) return;\n",
              "\n",
              "          const docLinkHtml = 'Like what you see? Visit the ' +\n",
              "            '<a target=\"_blank\" href=https://colab.research.google.com/notebooks/data_table.ipynb>data table notebook</a>'\n",
              "            + ' to learn more about interactive tables.';\n",
              "          element.innerHTML = '';\n",
              "          dataTable['output_type'] = 'display_data';\n",
              "          await google.colab.output.renderOutput(dataTable, element);\n",
              "          const docLink = document.createElement('div');\n",
              "          docLink.innerHTML = docLinkHtml;\n",
              "          element.appendChild(docLink);\n",
              "        }\n",
              "      </script>\n",
              "    </div>\n",
              "  </div>\n",
              "  "
            ]
          },
          "metadata": {},
          "execution_count": 7
        }
      ]
    },
    {
      "cell_type": "code",
      "source": [
        "df.isna().sum() "
      ],
      "metadata": {
        "colab": {
          "base_uri": "https://localhost:8080/"
        },
        "id": "YHfZOiE7Mymu",
        "outputId": "d4d0b377-22a7-4984-fd05-ba6062edb4b6"
      },
      "execution_count": 9,
      "outputs": [
        {
          "output_type": "execute_result",
          "data": {
            "text/plain": [
              "Bp       0\n",
              "Sg       0\n",
              "Al       0\n",
              "Su       0\n",
              "Rbc      0\n",
              "Bu       0\n",
              "Sc       0\n",
              "Sod      0\n",
              "Pot      0\n",
              "Hemo     0\n",
              "Wbcc     0\n",
              "Rbcc     0\n",
              "Htn      0\n",
              "Class    0\n",
              "dtype: int64"
            ]
          },
          "metadata": {},
          "execution_count": 9
        }
      ]
    },
    {
      "cell_type": "markdown",
      "source": [
        "# kolom pada data adalah\n",
        "# Bp = Blood Presure\n",
        "# Sg = Specific Gravity\n",
        "# Al = Albumin\n",
        "# Su = Sugar\n",
        "# Rbc = Red Blood Cell\n",
        "# Bu = Blood Urea\n",
        "# Sc = Serum Creatine\n",
        "# Sod = Sodium\n",
        "# Pot = Pottasium\n",
        "# Hemo = Hemoglobin\n",
        "# Wbcc = White Blood Cell Count\n",
        "# Rbcc = Red Blood Cell Count\n",
        "# Htn = Hypertension\n",
        "# Class = Predicted Class"
      ],
      "metadata": {
        "id": "i62BLlRXQjDX"
      }
    },
    {
      "cell_type": "code",
      "source": [
        "import pandas as pd\n",
        "import seaborn as sns \n",
        "import plotly.express as px\n",
        "import numpy as np\n",
        "import matplotlib.pyplot as plt\n",
        "pd.options.mode.chained_assignment = None\n",
        "sns.set(style = 'whitegrid')\n",
        "import textwrap"
      ],
      "metadata": {
        "id": "88KDI6I1NFtV"
      },
      "execution_count": 10,
      "outputs": []
    },
    {
      "cell_type": "markdown",
      "source": [
        "# Data Inisial"
      ],
      "metadata": {
        "id": "CBoiGMSfNINS"
      }
    },
    {
      "cell_type": "code",
      "source": [
        "df = pd.read_csv(\"new_model.csv\")\n",
        "df"
      ],
      "metadata": {
        "colab": {
          "base_uri": "https://localhost:8080/",
          "height": 424
        },
        "id": "F2L1MMMkNPlI",
        "outputId": "a72faa1a-1e2d-4160-b150-0faffaf2f49e"
      },
      "execution_count": 11,
      "outputs": [
        {
          "output_type": "execute_result",
          "data": {
            "text/plain": [
              "       Bp     Sg   Al   Su  Rbc    Bu   Sc     Sod   Pot  Hemo    Wbcc  Rbcc  \\\n",
              "0    80.0  1.020  1.0  0.0  1.0  36.0  1.2  137.53  4.63  15.4  7800.0  5.20   \n",
              "1    50.0  1.020  4.0  0.0  1.0  18.0  0.8  137.53  4.63  11.3  6000.0  4.71   \n",
              "2    80.0  1.010  2.0  3.0  1.0  53.0  1.8  137.53  4.63   9.6  7500.0  4.71   \n",
              "3    70.0  1.005  4.0  0.0  1.0  56.0  3.8  111.00  2.50  11.2  6700.0  3.90   \n",
              "4    80.0  1.010  2.0  0.0  1.0  26.0  1.4  137.53  4.63  11.6  7300.0  4.60   \n",
              "..    ...    ...  ...  ...  ...   ...  ...     ...   ...   ...     ...   ...   \n",
              "395  80.0  1.020  0.0  0.0  1.0  49.0  0.5  150.00  4.90  15.7  6700.0  4.90   \n",
              "396  70.0  1.025  0.0  0.0  1.0  31.0  1.2  141.00  3.50  16.5  7800.0  6.20   \n",
              "397  80.0  1.020  0.0  0.0  1.0  26.0  0.6  137.00  4.40  15.8  6600.0  5.40   \n",
              "398  60.0  1.025  0.0  0.0  1.0  50.0  1.0  135.00  4.90  14.2  7200.0  5.90   \n",
              "399  80.0  1.025  0.0  0.0  1.0  18.0  1.1  141.00  3.50  15.8  6800.0  6.10   \n",
              "\n",
              "     Htn  Class  \n",
              "0    1.0      1  \n",
              "1    0.0      1  \n",
              "2    0.0      1  \n",
              "3    1.0      1  \n",
              "4    0.0      1  \n",
              "..   ...    ...  \n",
              "395  0.0      0  \n",
              "396  0.0      0  \n",
              "397  0.0      0  \n",
              "398  0.0      0  \n",
              "399  0.0      0  \n",
              "\n",
              "[400 rows x 14 columns]"
            ],
            "text/html": [
              "\n",
              "  <div id=\"df-f6809c6f-2e56-4c7c-b1c0-06e095f215d0\">\n",
              "    <div class=\"colab-df-container\">\n",
              "      <div>\n",
              "<style scoped>\n",
              "    .dataframe tbody tr th:only-of-type {\n",
              "        vertical-align: middle;\n",
              "    }\n",
              "\n",
              "    .dataframe tbody tr th {\n",
              "        vertical-align: top;\n",
              "    }\n",
              "\n",
              "    .dataframe thead th {\n",
              "        text-align: right;\n",
              "    }\n",
              "</style>\n",
              "<table border=\"1\" class=\"dataframe\">\n",
              "  <thead>\n",
              "    <tr style=\"text-align: right;\">\n",
              "      <th></th>\n",
              "      <th>Bp</th>\n",
              "      <th>Sg</th>\n",
              "      <th>Al</th>\n",
              "      <th>Su</th>\n",
              "      <th>Rbc</th>\n",
              "      <th>Bu</th>\n",
              "      <th>Sc</th>\n",
              "      <th>Sod</th>\n",
              "      <th>Pot</th>\n",
              "      <th>Hemo</th>\n",
              "      <th>Wbcc</th>\n",
              "      <th>Rbcc</th>\n",
              "      <th>Htn</th>\n",
              "      <th>Class</th>\n",
              "    </tr>\n",
              "  </thead>\n",
              "  <tbody>\n",
              "    <tr>\n",
              "      <th>0</th>\n",
              "      <td>80.0</td>\n",
              "      <td>1.020</td>\n",
              "      <td>1.0</td>\n",
              "      <td>0.0</td>\n",
              "      <td>1.0</td>\n",
              "      <td>36.0</td>\n",
              "      <td>1.2</td>\n",
              "      <td>137.53</td>\n",
              "      <td>4.63</td>\n",
              "      <td>15.4</td>\n",
              "      <td>7800.0</td>\n",
              "      <td>5.20</td>\n",
              "      <td>1.0</td>\n",
              "      <td>1</td>\n",
              "    </tr>\n",
              "    <tr>\n",
              "      <th>1</th>\n",
              "      <td>50.0</td>\n",
              "      <td>1.020</td>\n",
              "      <td>4.0</td>\n",
              "      <td>0.0</td>\n",
              "      <td>1.0</td>\n",
              "      <td>18.0</td>\n",
              "      <td>0.8</td>\n",
              "      <td>137.53</td>\n",
              "      <td>4.63</td>\n",
              "      <td>11.3</td>\n",
              "      <td>6000.0</td>\n",
              "      <td>4.71</td>\n",
              "      <td>0.0</td>\n",
              "      <td>1</td>\n",
              "    </tr>\n",
              "    <tr>\n",
              "      <th>2</th>\n",
              "      <td>80.0</td>\n",
              "      <td>1.010</td>\n",
              "      <td>2.0</td>\n",
              "      <td>3.0</td>\n",
              "      <td>1.0</td>\n",
              "      <td>53.0</td>\n",
              "      <td>1.8</td>\n",
              "      <td>137.53</td>\n",
              "      <td>4.63</td>\n",
              "      <td>9.6</td>\n",
              "      <td>7500.0</td>\n",
              "      <td>4.71</td>\n",
              "      <td>0.0</td>\n",
              "      <td>1</td>\n",
              "    </tr>\n",
              "    <tr>\n",
              "      <th>3</th>\n",
              "      <td>70.0</td>\n",
              "      <td>1.005</td>\n",
              "      <td>4.0</td>\n",
              "      <td>0.0</td>\n",
              "      <td>1.0</td>\n",
              "      <td>56.0</td>\n",
              "      <td>3.8</td>\n",
              "      <td>111.00</td>\n",
              "      <td>2.50</td>\n",
              "      <td>11.2</td>\n",
              "      <td>6700.0</td>\n",
              "      <td>3.90</td>\n",
              "      <td>1.0</td>\n",
              "      <td>1</td>\n",
              "    </tr>\n",
              "    <tr>\n",
              "      <th>4</th>\n",
              "      <td>80.0</td>\n",
              "      <td>1.010</td>\n",
              "      <td>2.0</td>\n",
              "      <td>0.0</td>\n",
              "      <td>1.0</td>\n",
              "      <td>26.0</td>\n",
              "      <td>1.4</td>\n",
              "      <td>137.53</td>\n",
              "      <td>4.63</td>\n",
              "      <td>11.6</td>\n",
              "      <td>7300.0</td>\n",
              "      <td>4.60</td>\n",
              "      <td>0.0</td>\n",
              "      <td>1</td>\n",
              "    </tr>\n",
              "    <tr>\n",
              "      <th>...</th>\n",
              "      <td>...</td>\n",
              "      <td>...</td>\n",
              "      <td>...</td>\n",
              "      <td>...</td>\n",
              "      <td>...</td>\n",
              "      <td>...</td>\n",
              "      <td>...</td>\n",
              "      <td>...</td>\n",
              "      <td>...</td>\n",
              "      <td>...</td>\n",
              "      <td>...</td>\n",
              "      <td>...</td>\n",
              "      <td>...</td>\n",
              "      <td>...</td>\n",
              "    </tr>\n",
              "    <tr>\n",
              "      <th>395</th>\n",
              "      <td>80.0</td>\n",
              "      <td>1.020</td>\n",
              "      <td>0.0</td>\n",
              "      <td>0.0</td>\n",
              "      <td>1.0</td>\n",
              "      <td>49.0</td>\n",
              "      <td>0.5</td>\n",
              "      <td>150.00</td>\n",
              "      <td>4.90</td>\n",
              "      <td>15.7</td>\n",
              "      <td>6700.0</td>\n",
              "      <td>4.90</td>\n",
              "      <td>0.0</td>\n",
              "      <td>0</td>\n",
              "    </tr>\n",
              "    <tr>\n",
              "      <th>396</th>\n",
              "      <td>70.0</td>\n",
              "      <td>1.025</td>\n",
              "      <td>0.0</td>\n",
              "      <td>0.0</td>\n",
              "      <td>1.0</td>\n",
              "      <td>31.0</td>\n",
              "      <td>1.2</td>\n",
              "      <td>141.00</td>\n",
              "      <td>3.50</td>\n",
              "      <td>16.5</td>\n",
              "      <td>7800.0</td>\n",
              "      <td>6.20</td>\n",
              "      <td>0.0</td>\n",
              "      <td>0</td>\n",
              "    </tr>\n",
              "    <tr>\n",
              "      <th>397</th>\n",
              "      <td>80.0</td>\n",
              "      <td>1.020</td>\n",
              "      <td>0.0</td>\n",
              "      <td>0.0</td>\n",
              "      <td>1.0</td>\n",
              "      <td>26.0</td>\n",
              "      <td>0.6</td>\n",
              "      <td>137.00</td>\n",
              "      <td>4.40</td>\n",
              "      <td>15.8</td>\n",
              "      <td>6600.0</td>\n",
              "      <td>5.40</td>\n",
              "      <td>0.0</td>\n",
              "      <td>0</td>\n",
              "    </tr>\n",
              "    <tr>\n",
              "      <th>398</th>\n",
              "      <td>60.0</td>\n",
              "      <td>1.025</td>\n",
              "      <td>0.0</td>\n",
              "      <td>0.0</td>\n",
              "      <td>1.0</td>\n",
              "      <td>50.0</td>\n",
              "      <td>1.0</td>\n",
              "      <td>135.00</td>\n",
              "      <td>4.90</td>\n",
              "      <td>14.2</td>\n",
              "      <td>7200.0</td>\n",
              "      <td>5.90</td>\n",
              "      <td>0.0</td>\n",
              "      <td>0</td>\n",
              "    </tr>\n",
              "    <tr>\n",
              "      <th>399</th>\n",
              "      <td>80.0</td>\n",
              "      <td>1.025</td>\n",
              "      <td>0.0</td>\n",
              "      <td>0.0</td>\n",
              "      <td>1.0</td>\n",
              "      <td>18.0</td>\n",
              "      <td>1.1</td>\n",
              "      <td>141.00</td>\n",
              "      <td>3.50</td>\n",
              "      <td>15.8</td>\n",
              "      <td>6800.0</td>\n",
              "      <td>6.10</td>\n",
              "      <td>0.0</td>\n",
              "      <td>0</td>\n",
              "    </tr>\n",
              "  </tbody>\n",
              "</table>\n",
              "<p>400 rows × 14 columns</p>\n",
              "</div>\n",
              "      <button class=\"colab-df-convert\" onclick=\"convertToInteractive('df-f6809c6f-2e56-4c7c-b1c0-06e095f215d0')\"\n",
              "              title=\"Convert this dataframe to an interactive table.\"\n",
              "              style=\"display:none;\">\n",
              "        \n",
              "  <svg xmlns=\"http://www.w3.org/2000/svg\" height=\"24px\"viewBox=\"0 0 24 24\"\n",
              "       width=\"24px\">\n",
              "    <path d=\"M0 0h24v24H0V0z\" fill=\"none\"/>\n",
              "    <path d=\"M18.56 5.44l.94 2.06.94-2.06 2.06-.94-2.06-.94-.94-2.06-.94 2.06-2.06.94zm-11 1L8.5 8.5l.94-2.06 2.06-.94-2.06-.94L8.5 2.5l-.94 2.06-2.06.94zm10 10l.94 2.06.94-2.06 2.06-.94-2.06-.94-.94-2.06-.94 2.06-2.06.94z\"/><path d=\"M17.41 7.96l-1.37-1.37c-.4-.4-.92-.59-1.43-.59-.52 0-1.04.2-1.43.59L10.3 9.45l-7.72 7.72c-.78.78-.78 2.05 0 2.83L4 21.41c.39.39.9.59 1.41.59.51 0 1.02-.2 1.41-.59l7.78-7.78 2.81-2.81c.8-.78.8-2.07 0-2.86zM5.41 20L4 18.59l7.72-7.72 1.47 1.35L5.41 20z\"/>\n",
              "  </svg>\n",
              "      </button>\n",
              "      \n",
              "  <style>\n",
              "    .colab-df-container {\n",
              "      display:flex;\n",
              "      flex-wrap:wrap;\n",
              "      gap: 12px;\n",
              "    }\n",
              "\n",
              "    .colab-df-convert {\n",
              "      background-color: #E8F0FE;\n",
              "      border: none;\n",
              "      border-radius: 50%;\n",
              "      cursor: pointer;\n",
              "      display: none;\n",
              "      fill: #1967D2;\n",
              "      height: 32px;\n",
              "      padding: 0 0 0 0;\n",
              "      width: 32px;\n",
              "    }\n",
              "\n",
              "    .colab-df-convert:hover {\n",
              "      background-color: #E2EBFA;\n",
              "      box-shadow: 0px 1px 2px rgba(60, 64, 67, 0.3), 0px 1px 3px 1px rgba(60, 64, 67, 0.15);\n",
              "      fill: #174EA6;\n",
              "    }\n",
              "\n",
              "    [theme=dark] .colab-df-convert {\n",
              "      background-color: #3B4455;\n",
              "      fill: #D2E3FC;\n",
              "    }\n",
              "\n",
              "    [theme=dark] .colab-df-convert:hover {\n",
              "      background-color: #434B5C;\n",
              "      box-shadow: 0px 1px 3px 1px rgba(0, 0, 0, 0.15);\n",
              "      filter: drop-shadow(0px 1px 2px rgba(0, 0, 0, 0.3));\n",
              "      fill: #FFFFFF;\n",
              "    }\n",
              "  </style>\n",
              "\n",
              "      <script>\n",
              "        const buttonEl =\n",
              "          document.querySelector('#df-f6809c6f-2e56-4c7c-b1c0-06e095f215d0 button.colab-df-convert');\n",
              "        buttonEl.style.display =\n",
              "          google.colab.kernel.accessAllowed ? 'block' : 'none';\n",
              "\n",
              "        async function convertToInteractive(key) {\n",
              "          const element = document.querySelector('#df-f6809c6f-2e56-4c7c-b1c0-06e095f215d0');\n",
              "          const dataTable =\n",
              "            await google.colab.kernel.invokeFunction('convertToInteractive',\n",
              "                                                     [key], {});\n",
              "          if (!dataTable) return;\n",
              "\n",
              "          const docLinkHtml = 'Like what you see? Visit the ' +\n",
              "            '<a target=\"_blank\" href=https://colab.research.google.com/notebooks/data_table.ipynb>data table notebook</a>'\n",
              "            + ' to learn more about interactive tables.';\n",
              "          element.innerHTML = '';\n",
              "          dataTable['output_type'] = 'display_data';\n",
              "          await google.colab.output.renderOutput(dataTable, element);\n",
              "          const docLink = document.createElement('div');\n",
              "          docLink.innerHTML = docLinkHtml;\n",
              "          element.appendChild(docLink);\n",
              "        }\n",
              "      </script>\n",
              "    </div>\n",
              "  </div>\n",
              "  "
            ]
          },
          "metadata": {},
          "execution_count": 11
        }
      ]
    },
    {
      "cell_type": "code",
      "source": [
        "df.head()"
      ],
      "metadata": {
        "colab": {
          "base_uri": "https://localhost:8080/",
          "height": 206
        },
        "id": "v5Buc6ZtNXNo",
        "outputId": "79380734-345d-4cec-dae0-fa40f7f6a12f"
      },
      "execution_count": 12,
      "outputs": [
        {
          "output_type": "execute_result",
          "data": {
            "text/plain": [
              "     Bp     Sg   Al   Su  Rbc    Bu   Sc     Sod   Pot  Hemo    Wbcc  Rbcc  \\\n",
              "0  80.0  1.020  1.0  0.0  1.0  36.0  1.2  137.53  4.63  15.4  7800.0  5.20   \n",
              "1  50.0  1.020  4.0  0.0  1.0  18.0  0.8  137.53  4.63  11.3  6000.0  4.71   \n",
              "2  80.0  1.010  2.0  3.0  1.0  53.0  1.8  137.53  4.63   9.6  7500.0  4.71   \n",
              "3  70.0  1.005  4.0  0.0  1.0  56.0  3.8  111.00  2.50  11.2  6700.0  3.90   \n",
              "4  80.0  1.010  2.0  0.0  1.0  26.0  1.4  137.53  4.63  11.6  7300.0  4.60   \n",
              "\n",
              "   Htn  Class  \n",
              "0  1.0      1  \n",
              "1  0.0      1  \n",
              "2  0.0      1  \n",
              "3  1.0      1  \n",
              "4  0.0      1  "
            ],
            "text/html": [
              "\n",
              "  <div id=\"df-2c0b16ae-f700-4788-95b5-4aaa7674156e\">\n",
              "    <div class=\"colab-df-container\">\n",
              "      <div>\n",
              "<style scoped>\n",
              "    .dataframe tbody tr th:only-of-type {\n",
              "        vertical-align: middle;\n",
              "    }\n",
              "\n",
              "    .dataframe tbody tr th {\n",
              "        vertical-align: top;\n",
              "    }\n",
              "\n",
              "    .dataframe thead th {\n",
              "        text-align: right;\n",
              "    }\n",
              "</style>\n",
              "<table border=\"1\" class=\"dataframe\">\n",
              "  <thead>\n",
              "    <tr style=\"text-align: right;\">\n",
              "      <th></th>\n",
              "      <th>Bp</th>\n",
              "      <th>Sg</th>\n",
              "      <th>Al</th>\n",
              "      <th>Su</th>\n",
              "      <th>Rbc</th>\n",
              "      <th>Bu</th>\n",
              "      <th>Sc</th>\n",
              "      <th>Sod</th>\n",
              "      <th>Pot</th>\n",
              "      <th>Hemo</th>\n",
              "      <th>Wbcc</th>\n",
              "      <th>Rbcc</th>\n",
              "      <th>Htn</th>\n",
              "      <th>Class</th>\n",
              "    </tr>\n",
              "  </thead>\n",
              "  <tbody>\n",
              "    <tr>\n",
              "      <th>0</th>\n",
              "      <td>80.0</td>\n",
              "      <td>1.020</td>\n",
              "      <td>1.0</td>\n",
              "      <td>0.0</td>\n",
              "      <td>1.0</td>\n",
              "      <td>36.0</td>\n",
              "      <td>1.2</td>\n",
              "      <td>137.53</td>\n",
              "      <td>4.63</td>\n",
              "      <td>15.4</td>\n",
              "      <td>7800.0</td>\n",
              "      <td>5.20</td>\n",
              "      <td>1.0</td>\n",
              "      <td>1</td>\n",
              "    </tr>\n",
              "    <tr>\n",
              "      <th>1</th>\n",
              "      <td>50.0</td>\n",
              "      <td>1.020</td>\n",
              "      <td>4.0</td>\n",
              "      <td>0.0</td>\n",
              "      <td>1.0</td>\n",
              "      <td>18.0</td>\n",
              "      <td>0.8</td>\n",
              "      <td>137.53</td>\n",
              "      <td>4.63</td>\n",
              "      <td>11.3</td>\n",
              "      <td>6000.0</td>\n",
              "      <td>4.71</td>\n",
              "      <td>0.0</td>\n",
              "      <td>1</td>\n",
              "    </tr>\n",
              "    <tr>\n",
              "      <th>2</th>\n",
              "      <td>80.0</td>\n",
              "      <td>1.010</td>\n",
              "      <td>2.0</td>\n",
              "      <td>3.0</td>\n",
              "      <td>1.0</td>\n",
              "      <td>53.0</td>\n",
              "      <td>1.8</td>\n",
              "      <td>137.53</td>\n",
              "      <td>4.63</td>\n",
              "      <td>9.6</td>\n",
              "      <td>7500.0</td>\n",
              "      <td>4.71</td>\n",
              "      <td>0.0</td>\n",
              "      <td>1</td>\n",
              "    </tr>\n",
              "    <tr>\n",
              "      <th>3</th>\n",
              "      <td>70.0</td>\n",
              "      <td>1.005</td>\n",
              "      <td>4.0</td>\n",
              "      <td>0.0</td>\n",
              "      <td>1.0</td>\n",
              "      <td>56.0</td>\n",
              "      <td>3.8</td>\n",
              "      <td>111.00</td>\n",
              "      <td>2.50</td>\n",
              "      <td>11.2</td>\n",
              "      <td>6700.0</td>\n",
              "      <td>3.90</td>\n",
              "      <td>1.0</td>\n",
              "      <td>1</td>\n",
              "    </tr>\n",
              "    <tr>\n",
              "      <th>4</th>\n",
              "      <td>80.0</td>\n",
              "      <td>1.010</td>\n",
              "      <td>2.0</td>\n",
              "      <td>0.0</td>\n",
              "      <td>1.0</td>\n",
              "      <td>26.0</td>\n",
              "      <td>1.4</td>\n",
              "      <td>137.53</td>\n",
              "      <td>4.63</td>\n",
              "      <td>11.6</td>\n",
              "      <td>7300.0</td>\n",
              "      <td>4.60</td>\n",
              "      <td>0.0</td>\n",
              "      <td>1</td>\n",
              "    </tr>\n",
              "  </tbody>\n",
              "</table>\n",
              "</div>\n",
              "      <button class=\"colab-df-convert\" onclick=\"convertToInteractive('df-2c0b16ae-f700-4788-95b5-4aaa7674156e')\"\n",
              "              title=\"Convert this dataframe to an interactive table.\"\n",
              "              style=\"display:none;\">\n",
              "        \n",
              "  <svg xmlns=\"http://www.w3.org/2000/svg\" height=\"24px\"viewBox=\"0 0 24 24\"\n",
              "       width=\"24px\">\n",
              "    <path d=\"M0 0h24v24H0V0z\" fill=\"none\"/>\n",
              "    <path d=\"M18.56 5.44l.94 2.06.94-2.06 2.06-.94-2.06-.94-.94-2.06-.94 2.06-2.06.94zm-11 1L8.5 8.5l.94-2.06 2.06-.94-2.06-.94L8.5 2.5l-.94 2.06-2.06.94zm10 10l.94 2.06.94-2.06 2.06-.94-2.06-.94-.94-2.06-.94 2.06-2.06.94z\"/><path d=\"M17.41 7.96l-1.37-1.37c-.4-.4-.92-.59-1.43-.59-.52 0-1.04.2-1.43.59L10.3 9.45l-7.72 7.72c-.78.78-.78 2.05 0 2.83L4 21.41c.39.39.9.59 1.41.59.51 0 1.02-.2 1.41-.59l7.78-7.78 2.81-2.81c.8-.78.8-2.07 0-2.86zM5.41 20L4 18.59l7.72-7.72 1.47 1.35L5.41 20z\"/>\n",
              "  </svg>\n",
              "      </button>\n",
              "      \n",
              "  <style>\n",
              "    .colab-df-container {\n",
              "      display:flex;\n",
              "      flex-wrap:wrap;\n",
              "      gap: 12px;\n",
              "    }\n",
              "\n",
              "    .colab-df-convert {\n",
              "      background-color: #E8F0FE;\n",
              "      border: none;\n",
              "      border-radius: 50%;\n",
              "      cursor: pointer;\n",
              "      display: none;\n",
              "      fill: #1967D2;\n",
              "      height: 32px;\n",
              "      padding: 0 0 0 0;\n",
              "      width: 32px;\n",
              "    }\n",
              "\n",
              "    .colab-df-convert:hover {\n",
              "      background-color: #E2EBFA;\n",
              "      box-shadow: 0px 1px 2px rgba(60, 64, 67, 0.3), 0px 1px 3px 1px rgba(60, 64, 67, 0.15);\n",
              "      fill: #174EA6;\n",
              "    }\n",
              "\n",
              "    [theme=dark] .colab-df-convert {\n",
              "      background-color: #3B4455;\n",
              "      fill: #D2E3FC;\n",
              "    }\n",
              "\n",
              "    [theme=dark] .colab-df-convert:hover {\n",
              "      background-color: #434B5C;\n",
              "      box-shadow: 0px 1px 3px 1px rgba(0, 0, 0, 0.15);\n",
              "      filter: drop-shadow(0px 1px 2px rgba(0, 0, 0, 0.3));\n",
              "      fill: #FFFFFF;\n",
              "    }\n",
              "  </style>\n",
              "\n",
              "      <script>\n",
              "        const buttonEl =\n",
              "          document.querySelector('#df-2c0b16ae-f700-4788-95b5-4aaa7674156e button.colab-df-convert');\n",
              "        buttonEl.style.display =\n",
              "          google.colab.kernel.accessAllowed ? 'block' : 'none';\n",
              "\n",
              "        async function convertToInteractive(key) {\n",
              "          const element = document.querySelector('#df-2c0b16ae-f700-4788-95b5-4aaa7674156e');\n",
              "          const dataTable =\n",
              "            await google.colab.kernel.invokeFunction('convertToInteractive',\n",
              "                                                     [key], {});\n",
              "          if (!dataTable) return;\n",
              "\n",
              "          const docLinkHtml = 'Like what you see? Visit the ' +\n",
              "            '<a target=\"_blank\" href=https://colab.research.google.com/notebooks/data_table.ipynb>data table notebook</a>'\n",
              "            + ' to learn more about interactive tables.';\n",
              "          element.innerHTML = '';\n",
              "          dataTable['output_type'] = 'display_data';\n",
              "          await google.colab.output.renderOutput(dataTable, element);\n",
              "          const docLink = document.createElement('div');\n",
              "          docLink.innerHTML = docLinkHtml;\n",
              "          element.appendChild(docLink);\n",
              "        }\n",
              "      </script>\n",
              "    </div>\n",
              "  </div>\n",
              "  "
            ]
          },
          "metadata": {},
          "execution_count": 12
        }
      ]
    },
    {
      "cell_type": "code",
      "source": [
        "df.tail()"
      ],
      "metadata": {
        "colab": {
          "base_uri": "https://localhost:8080/",
          "height": 206
        },
        "id": "sdfNL5oTNcKD",
        "outputId": "16d274f9-ea34-4e0e-e769-02e0dbf8ce1c"
      },
      "execution_count": 13,
      "outputs": [
        {
          "output_type": "execute_result",
          "data": {
            "text/plain": [
              "       Bp     Sg   Al   Su  Rbc    Bu   Sc    Sod  Pot  Hemo    Wbcc  Rbcc  \\\n",
              "395  80.0  1.020  0.0  0.0  1.0  49.0  0.5  150.0  4.9  15.7  6700.0   4.9   \n",
              "396  70.0  1.025  0.0  0.0  1.0  31.0  1.2  141.0  3.5  16.5  7800.0   6.2   \n",
              "397  80.0  1.020  0.0  0.0  1.0  26.0  0.6  137.0  4.4  15.8  6600.0   5.4   \n",
              "398  60.0  1.025  0.0  0.0  1.0  50.0  1.0  135.0  4.9  14.2  7200.0   5.9   \n",
              "399  80.0  1.025  0.0  0.0  1.0  18.0  1.1  141.0  3.5  15.8  6800.0   6.1   \n",
              "\n",
              "     Htn  Class  \n",
              "395  0.0      0  \n",
              "396  0.0      0  \n",
              "397  0.0      0  \n",
              "398  0.0      0  \n",
              "399  0.0      0  "
            ],
            "text/html": [
              "\n",
              "  <div id=\"df-54c1431f-6797-411b-b418-a40bb719f420\">\n",
              "    <div class=\"colab-df-container\">\n",
              "      <div>\n",
              "<style scoped>\n",
              "    .dataframe tbody tr th:only-of-type {\n",
              "        vertical-align: middle;\n",
              "    }\n",
              "\n",
              "    .dataframe tbody tr th {\n",
              "        vertical-align: top;\n",
              "    }\n",
              "\n",
              "    .dataframe thead th {\n",
              "        text-align: right;\n",
              "    }\n",
              "</style>\n",
              "<table border=\"1\" class=\"dataframe\">\n",
              "  <thead>\n",
              "    <tr style=\"text-align: right;\">\n",
              "      <th></th>\n",
              "      <th>Bp</th>\n",
              "      <th>Sg</th>\n",
              "      <th>Al</th>\n",
              "      <th>Su</th>\n",
              "      <th>Rbc</th>\n",
              "      <th>Bu</th>\n",
              "      <th>Sc</th>\n",
              "      <th>Sod</th>\n",
              "      <th>Pot</th>\n",
              "      <th>Hemo</th>\n",
              "      <th>Wbcc</th>\n",
              "      <th>Rbcc</th>\n",
              "      <th>Htn</th>\n",
              "      <th>Class</th>\n",
              "    </tr>\n",
              "  </thead>\n",
              "  <tbody>\n",
              "    <tr>\n",
              "      <th>395</th>\n",
              "      <td>80.0</td>\n",
              "      <td>1.020</td>\n",
              "      <td>0.0</td>\n",
              "      <td>0.0</td>\n",
              "      <td>1.0</td>\n",
              "      <td>49.0</td>\n",
              "      <td>0.5</td>\n",
              "      <td>150.0</td>\n",
              "      <td>4.9</td>\n",
              "      <td>15.7</td>\n",
              "      <td>6700.0</td>\n",
              "      <td>4.9</td>\n",
              "      <td>0.0</td>\n",
              "      <td>0</td>\n",
              "    </tr>\n",
              "    <tr>\n",
              "      <th>396</th>\n",
              "      <td>70.0</td>\n",
              "      <td>1.025</td>\n",
              "      <td>0.0</td>\n",
              "      <td>0.0</td>\n",
              "      <td>1.0</td>\n",
              "      <td>31.0</td>\n",
              "      <td>1.2</td>\n",
              "      <td>141.0</td>\n",
              "      <td>3.5</td>\n",
              "      <td>16.5</td>\n",
              "      <td>7800.0</td>\n",
              "      <td>6.2</td>\n",
              "      <td>0.0</td>\n",
              "      <td>0</td>\n",
              "    </tr>\n",
              "    <tr>\n",
              "      <th>397</th>\n",
              "      <td>80.0</td>\n",
              "      <td>1.020</td>\n",
              "      <td>0.0</td>\n",
              "      <td>0.0</td>\n",
              "      <td>1.0</td>\n",
              "      <td>26.0</td>\n",
              "      <td>0.6</td>\n",
              "      <td>137.0</td>\n",
              "      <td>4.4</td>\n",
              "      <td>15.8</td>\n",
              "      <td>6600.0</td>\n",
              "      <td>5.4</td>\n",
              "      <td>0.0</td>\n",
              "      <td>0</td>\n",
              "    </tr>\n",
              "    <tr>\n",
              "      <th>398</th>\n",
              "      <td>60.0</td>\n",
              "      <td>1.025</td>\n",
              "      <td>0.0</td>\n",
              "      <td>0.0</td>\n",
              "      <td>1.0</td>\n",
              "      <td>50.0</td>\n",
              "      <td>1.0</td>\n",
              "      <td>135.0</td>\n",
              "      <td>4.9</td>\n",
              "      <td>14.2</td>\n",
              "      <td>7200.0</td>\n",
              "      <td>5.9</td>\n",
              "      <td>0.0</td>\n",
              "      <td>0</td>\n",
              "    </tr>\n",
              "    <tr>\n",
              "      <th>399</th>\n",
              "      <td>80.0</td>\n",
              "      <td>1.025</td>\n",
              "      <td>0.0</td>\n",
              "      <td>0.0</td>\n",
              "      <td>1.0</td>\n",
              "      <td>18.0</td>\n",
              "      <td>1.1</td>\n",
              "      <td>141.0</td>\n",
              "      <td>3.5</td>\n",
              "      <td>15.8</td>\n",
              "      <td>6800.0</td>\n",
              "      <td>6.1</td>\n",
              "      <td>0.0</td>\n",
              "      <td>0</td>\n",
              "    </tr>\n",
              "  </tbody>\n",
              "</table>\n",
              "</div>\n",
              "      <button class=\"colab-df-convert\" onclick=\"convertToInteractive('df-54c1431f-6797-411b-b418-a40bb719f420')\"\n",
              "              title=\"Convert this dataframe to an interactive table.\"\n",
              "              style=\"display:none;\">\n",
              "        \n",
              "  <svg xmlns=\"http://www.w3.org/2000/svg\" height=\"24px\"viewBox=\"0 0 24 24\"\n",
              "       width=\"24px\">\n",
              "    <path d=\"M0 0h24v24H0V0z\" fill=\"none\"/>\n",
              "    <path d=\"M18.56 5.44l.94 2.06.94-2.06 2.06-.94-2.06-.94-.94-2.06-.94 2.06-2.06.94zm-11 1L8.5 8.5l.94-2.06 2.06-.94-2.06-.94L8.5 2.5l-.94 2.06-2.06.94zm10 10l.94 2.06.94-2.06 2.06-.94-2.06-.94-.94-2.06-.94 2.06-2.06.94z\"/><path d=\"M17.41 7.96l-1.37-1.37c-.4-.4-.92-.59-1.43-.59-.52 0-1.04.2-1.43.59L10.3 9.45l-7.72 7.72c-.78.78-.78 2.05 0 2.83L4 21.41c.39.39.9.59 1.41.59.51 0 1.02-.2 1.41-.59l7.78-7.78 2.81-2.81c.8-.78.8-2.07 0-2.86zM5.41 20L4 18.59l7.72-7.72 1.47 1.35L5.41 20z\"/>\n",
              "  </svg>\n",
              "      </button>\n",
              "      \n",
              "  <style>\n",
              "    .colab-df-container {\n",
              "      display:flex;\n",
              "      flex-wrap:wrap;\n",
              "      gap: 12px;\n",
              "    }\n",
              "\n",
              "    .colab-df-convert {\n",
              "      background-color: #E8F0FE;\n",
              "      border: none;\n",
              "      border-radius: 50%;\n",
              "      cursor: pointer;\n",
              "      display: none;\n",
              "      fill: #1967D2;\n",
              "      height: 32px;\n",
              "      padding: 0 0 0 0;\n",
              "      width: 32px;\n",
              "    }\n",
              "\n",
              "    .colab-df-convert:hover {\n",
              "      background-color: #E2EBFA;\n",
              "      box-shadow: 0px 1px 2px rgba(60, 64, 67, 0.3), 0px 1px 3px 1px rgba(60, 64, 67, 0.15);\n",
              "      fill: #174EA6;\n",
              "    }\n",
              "\n",
              "    [theme=dark] .colab-df-convert {\n",
              "      background-color: #3B4455;\n",
              "      fill: #D2E3FC;\n",
              "    }\n",
              "\n",
              "    [theme=dark] .colab-df-convert:hover {\n",
              "      background-color: #434B5C;\n",
              "      box-shadow: 0px 1px 3px 1px rgba(0, 0, 0, 0.15);\n",
              "      filter: drop-shadow(0px 1px 2px rgba(0, 0, 0, 0.3));\n",
              "      fill: #FFFFFF;\n",
              "    }\n",
              "  </style>\n",
              "\n",
              "      <script>\n",
              "        const buttonEl =\n",
              "          document.querySelector('#df-54c1431f-6797-411b-b418-a40bb719f420 button.colab-df-convert');\n",
              "        buttonEl.style.display =\n",
              "          google.colab.kernel.accessAllowed ? 'block' : 'none';\n",
              "\n",
              "        async function convertToInteractive(key) {\n",
              "          const element = document.querySelector('#df-54c1431f-6797-411b-b418-a40bb719f420');\n",
              "          const dataTable =\n",
              "            await google.colab.kernel.invokeFunction('convertToInteractive',\n",
              "                                                     [key], {});\n",
              "          if (!dataTable) return;\n",
              "\n",
              "          const docLinkHtml = 'Like what you see? Visit the ' +\n",
              "            '<a target=\"_blank\" href=https://colab.research.google.com/notebooks/data_table.ipynb>data table notebook</a>'\n",
              "            + ' to learn more about interactive tables.';\n",
              "          element.innerHTML = '';\n",
              "          dataTable['output_type'] = 'display_data';\n",
              "          await google.colab.output.renderOutput(dataTable, element);\n",
              "          const docLink = document.createElement('div');\n",
              "          docLink.innerHTML = docLinkHtml;\n",
              "          element.appendChild(docLink);\n",
              "        }\n",
              "      </script>\n",
              "    </div>\n",
              "  </div>\n",
              "  "
            ]
          },
          "metadata": {},
          "execution_count": 13
        }
      ]
    },
    {
      "cell_type": "code",
      "source": [
        "# df1 berisi data dengan target Sugar 1.010\n",
        "df1 = df[df['Sg'] == 1.010] \n",
        "print(df1)"
      ],
      "metadata": {
        "colab": {
          "base_uri": "https://localhost:8080/"
        },
        "id": "Dyc0gRrxNgp_",
        "outputId": "cab3a5fa-27e0-43e0-a9e4-8984af93e839"
      },
      "execution_count": 16,
      "outputs": [
        {
          "output_type": "stream",
          "name": "stdout",
          "text": [
            "        Bp    Sg   Al   Su  Rbc     Bu    Sc     Sod   Pot  Hemo     Wbcc  \\\n",
            "2     80.0  1.01  2.0  3.0  1.0   53.0   1.8  137.53  4.63   9.6   7500.0   \n",
            "4     80.0  1.01  2.0  0.0  1.0   26.0   1.4  137.53  4.63  11.6   7300.0   \n",
            "6     70.0  1.01  0.0  0.0  1.0   54.0  24.0  104.00  4.00  12.4   8406.0   \n",
            "10    60.0  1.01  2.0  4.0  1.0   55.0   4.0  137.53  4.63   9.4   8406.0   \n",
            "11    70.0  1.01  3.0  0.0  0.0   60.0   2.7  131.00  4.20  10.8   4500.0   \n",
            "..     ...   ...  ...  ...  ...    ...   ...     ...   ...   ...      ...   \n",
            "234  100.0  1.01  0.0  0.0  0.0   19.0   1.3  137.53  4.63  15.0   4100.0   \n",
            "235   70.0  1.01  2.0  0.0  1.0   93.0   2.3  137.53  4.63   7.9   5700.0   \n",
            "242   70.0  1.01  4.0  3.0  1.0   96.0   6.3  120.00  3.90   9.4  11500.0   \n",
            "248   70.0  1.01  1.0  3.0  0.0   55.0   1.7  138.00  4.50  12.6  10200.0   \n",
            "249   90.0  1.01  4.0  1.0  1.0  309.0  13.3  124.00  6.50   3.1   5400.0   \n",
            "\n",
            "     Rbcc  Htn  Class  \n",
            "2    4.71  0.0      1  \n",
            "4    4.60  0.0      1  \n",
            "6    4.71  0.0      1  \n",
            "10   4.71  1.0      1  \n",
            "11   3.80  1.0      1  \n",
            "..    ...  ...    ...  \n",
            "234  5.20  1.0      1  \n",
            "235  4.71  0.0      1  \n",
            "242  3.30  1.0      1  \n",
            "248  4.10  1.0      1  \n",
            "249  2.10  1.0      1  \n",
            "\n",
            "[84 rows x 14 columns]\n"
          ]
        }
      ]
    },
    {
      "cell_type": "code",
      "source": [
        "# df2 berisi data dengan target Albumin > 0\n",
        "df2 = [df[df['Al'] > 0]]\n",
        "print(df2)"
      ],
      "metadata": {
        "colab": {
          "base_uri": "https://localhost:8080/"
        },
        "id": "30-Qg6fcRoX2",
        "outputId": "bf323bcf-bc56-4b53-c37a-634e530ef2cd"
      },
      "execution_count": 18,
      "outputs": [
        {
          "output_type": "stream",
          "name": "stdout",
          "text": [
            "[       Bp     Sg   Al   Su  Rbc    Bu   Sc     Sod   Pot  Hemo    Wbcc  Rbcc  \\\n",
            "0    80.0  1.020  1.0  0.0  1.0  36.0  1.2  137.53  4.63  15.4  7800.0  5.20   \n",
            "1    50.0  1.020  4.0  0.0  1.0  18.0  0.8  137.53  4.63  11.3  6000.0  4.71   \n",
            "2    80.0  1.010  2.0  3.0  1.0  53.0  1.8  137.53  4.63   9.6  7500.0  4.71   \n",
            "3    70.0  1.005  4.0  0.0  1.0  56.0  3.8  111.00  2.50  11.2  6700.0  3.90   \n",
            "4    80.0  1.010  2.0  0.0  1.0  26.0  1.4  137.53  4.63  11.6  7300.0  4.60   \n",
            "..    ...    ...  ...  ...  ...   ...  ...     ...   ...   ...     ...   ...   \n",
            "268  80.0  1.020  1.0  0.0  1.0  49.0  1.0  140.00  5.00  16.3  8500.0  4.90   \n",
            "280  80.0  1.020  1.0  0.0  1.0  33.0  0.9  144.00  4.50  13.3  8100.0  5.20   \n",
            "295  70.0  1.020  1.0  0.0  1.0  25.0  0.9  150.00  3.60  15.0  9600.0  6.50   \n",
            "322  60.0  1.020  1.0  0.0  1.0  40.0  0.5  140.00  4.60  16.0  4500.0  4.90   \n",
            "346  60.0  1.020  1.0  0.0  1.0  41.0  0.9  141.00  4.40  15.5  4300.0  5.80   \n",
            "\n",
            "     Htn  Class  \n",
            "0    1.0      1  \n",
            "1    0.0      1  \n",
            "2    0.0      1  \n",
            "3    1.0      1  \n",
            "4    0.0      1  \n",
            "..   ...    ...  \n",
            "268  0.0      0  \n",
            "280  0.0      0  \n",
            "295  0.0      0  \n",
            "322  0.0      0  \n",
            "346  0.0      0  \n",
            "\n",
            "[201 rows x 14 columns]]\n"
          ]
        }
      ]
    },
    {
      "cell_type": "markdown",
      "source": [
        "# Describe Data"
      ],
      "metadata": {
        "id": "pj_HK8_CSIEQ"
      }
    },
    {
      "cell_type": "code",
      "source": [
        "# df3 berisi data dengan target Serum Creatine > 2\n",
        "df3 = [df[df['Sc'] > 2]]\n",
        "print(df3)"
      ],
      "metadata": {
        "colab": {
          "base_uri": "https://localhost:8080/"
        },
        "id": "JUz3Vu1-SLwj",
        "outputId": "8c1c5a43-642a-498c-b889-c1e1bc132355"
      },
      "execution_count": 19,
      "outputs": [
        {
          "output_type": "stream",
          "name": "stdout",
          "text": [
            "[       Bp     Sg   Al   Su  Rbc     Bu     Sc     Sod   Pot  Hemo     Wbcc  \\\n",
            "3    70.0  1.005  4.0  0.0  1.0   56.0   3.80  111.00  2.50  11.2   6700.0   \n",
            "6    70.0  1.010  0.0  0.0  1.0   54.0  24.00  104.00  4.00  12.4   8406.0   \n",
            "9    90.0  1.020  2.0  0.0  0.0  107.0   7.20  114.00  3.70   9.5  12100.0   \n",
            "10   60.0  1.010  2.0  4.0  1.0   55.0   4.00  137.53  4.63   9.4   8406.0   \n",
            "11   70.0  1.010  3.0  0.0  0.0   60.0   2.70  131.00  4.20  10.8   4500.0   \n",
            "..    ...    ...  ...  ...  ...    ...    ...     ...   ...   ...      ...   \n",
            "276  60.0  1.025  0.0  0.0  1.0   57.0   3.07  137.00  4.70  14.0   4500.0   \n",
            "283  70.0  1.020  0.0  0.0  1.0   57.0   3.07  137.53  4.63  16.4  10800.0   \n",
            "312  70.0  1.020  0.0  0.0  1.0   57.0   3.07  135.00  4.10  15.3   6300.0   \n",
            "315  70.0  1.025  0.0  0.0  1.0   57.0   3.07  137.53  4.63  13.8   7800.0   \n",
            "334  80.0  1.025  0.0  0.0  1.0   57.0   3.07  136.00  3.50  15.4   5600.0   \n",
            "\n",
            "     Rbcc  Htn  Class  \n",
            "3    3.90  1.0      1  \n",
            "6    4.71  0.0      1  \n",
            "9    3.70  1.0      1  \n",
            "10   4.71  1.0      1  \n",
            "11   3.80  1.0      1  \n",
            "..    ...  ...    ...  \n",
            "276  5.50  0.0      0  \n",
            "283  5.70  0.0      0  \n",
            "312  6.10  0.0      0  \n",
            "315  4.40  0.0      0  \n",
            "334  4.50  0.0      0  \n",
            "\n",
            "[151 rows x 14 columns]]\n"
          ]
        }
      ]
    },
    {
      "cell_type": "code",
      "source": [
        "# df4 berisi data yang targetnya Class = 1\n",
        "df4 = [df[df['Class'] == 1]]\n",
        "print(df4)"
      ],
      "metadata": {
        "colab": {
          "base_uri": "https://localhost:8080/"
        },
        "id": "QJ0dx6DpTjVT",
        "outputId": "c1d16e56-c2b9-49fa-ff97-d8d92790f860"
      },
      "execution_count": 20,
      "outputs": [
        {
          "output_type": "stream",
          "name": "stdout",
          "text": [
            "[        Bp     Sg   Al   Su  Rbc     Bu    Sc     Sod   Pot   Hemo     Wbcc  \\\n",
            "0     80.0  1.020  1.0  0.0  1.0   36.0   1.2  137.53  4.63  15.40   7800.0   \n",
            "1     50.0  1.020  4.0  0.0  1.0   18.0   0.8  137.53  4.63  11.30   6000.0   \n",
            "2     80.0  1.010  2.0  3.0  1.0   53.0   1.8  137.53  4.63   9.60   7500.0   \n",
            "3     70.0  1.005  4.0  0.0  1.0   56.0   3.8  111.00  2.50  11.20   6700.0   \n",
            "4     80.0  1.010  2.0  0.0  1.0   26.0   1.4  137.53  4.63  11.60   7300.0   \n",
            "..     ...    ...  ...  ...  ...    ...   ...     ...   ...    ...      ...   \n",
            "245  100.0  1.020  1.0  0.0  1.0   79.0   5.3  135.00  6.30   6.30   7200.0   \n",
            "246  110.0  1.015  3.0  0.0  0.0  215.0  15.2  120.00  5.70   8.60   5000.0   \n",
            "247   90.0  1.025  1.0  0.0  1.0   18.0   1.2  140.00  4.20  12.53   8406.0   \n",
            "248   70.0  1.010  1.0  3.0  0.0   55.0   1.7  138.00  4.50  12.60  10200.0   \n",
            "249   90.0  1.010  4.0  1.0  1.0  309.0  13.3  124.00  6.50   3.10   5400.0   \n",
            "\n",
            "     Rbcc  Htn  Class  \n",
            "0    5.20  1.0      1  \n",
            "1    4.71  0.0      1  \n",
            "2    4.71  0.0      1  \n",
            "3    3.90  1.0      1  \n",
            "4    4.60  0.0      1  \n",
            "..    ...  ...    ...  \n",
            "245  2.60  1.0      1  \n",
            "246  2.50  1.0      1  \n",
            "247  4.71  0.0      1  \n",
            "248  4.10  1.0      1  \n",
            "249  2.10  1.0      1  \n",
            "\n",
            "[250 rows x 14 columns]]\n"
          ]
        }
      ]
    },
    {
      "cell_type": "code",
      "source": [
        "df.info()"
      ],
      "metadata": {
        "colab": {
          "base_uri": "https://localhost:8080/"
        },
        "id": "1JLSWwT9T_oQ",
        "outputId": "8c45314f-0997-4a70-9f62-b3659d9deba2"
      },
      "execution_count": 21,
      "outputs": [
        {
          "output_type": "stream",
          "name": "stdout",
          "text": [
            "<class 'pandas.core.frame.DataFrame'>\n",
            "RangeIndex: 400 entries, 0 to 399\n",
            "Data columns (total 14 columns):\n",
            " #   Column  Non-Null Count  Dtype  \n",
            "---  ------  --------------  -----  \n",
            " 0   Bp      400 non-null    float64\n",
            " 1   Sg      400 non-null    float64\n",
            " 2   Al      400 non-null    float64\n",
            " 3   Su      400 non-null    float64\n",
            " 4   Rbc     400 non-null    float64\n",
            " 5   Bu      400 non-null    float64\n",
            " 6   Sc      400 non-null    float64\n",
            " 7   Sod     400 non-null    float64\n",
            " 8   Pot     400 non-null    float64\n",
            " 9   Hemo    400 non-null    float64\n",
            " 10  Wbcc    400 non-null    float64\n",
            " 11  Rbcc    400 non-null    float64\n",
            " 12  Htn     400 non-null    float64\n",
            " 13  Class   400 non-null    int64  \n",
            "dtypes: float64(13), int64(1)\n",
            "memory usage: 43.9 KB\n"
          ]
        }
      ]
    },
    {
      "cell_type": "code",
      "source": [
        "def tampil(kolom):\n",
        "  dfnum = df[kolom]\n",
        "\n",
        "  print(\"Nilai minimum         :\", dfnum.min())\n",
        "  print(\"Nilai maksimum        :\", dfnum.max())"
      ],
      "metadata": {
        "id": "iu19nodDUfrw"
      },
      "execution_count": 24,
      "outputs": []
    },
    {
      "cell_type": "code",
      "source": [
        "tampil(\"Al\")"
      ],
      "metadata": {
        "colab": {
          "base_uri": "https://localhost:8080/"
        },
        "id": "y5EOJQn1Uhmw",
        "outputId": "7b8e9ca4-181a-4263-d596-8012c4f248e4"
      },
      "execution_count": 25,
      "outputs": [
        {
          "output_type": "stream",
          "name": "stdout",
          "text": [
            "Nilai minimum         : 0.0\n",
            "Nilai maksimum        : 5.0\n"
          ]
        }
      ]
    },
    {
      "cell_type": "code",
      "source": [
        "tampil(\"Sg\")"
      ],
      "metadata": {
        "colab": {
          "base_uri": "https://localhost:8080/"
        },
        "id": "D629Bx0yUzMa",
        "outputId": "f64c59d8-6149-42d1-caf6-c3b9fb16dec9"
      },
      "execution_count": 26,
      "outputs": [
        {
          "output_type": "stream",
          "name": "stdout",
          "text": [
            "Nilai minimum         : 1.005\n",
            "Nilai maksimum        : 1.025\n"
          ]
        }
      ]
    },
    {
      "cell_type": "code",
      "source": [
        "tampil(\"Sc\")"
      ],
      "metadata": {
        "colab": {
          "base_uri": "https://localhost:8080/"
        },
        "id": "r9U74zaeU3Xu",
        "outputId": "c9639ea1-b78f-4c7f-8b08-1920b699f380"
      },
      "execution_count": 27,
      "outputs": [
        {
          "output_type": "stream",
          "name": "stdout",
          "text": [
            "Nilai minimum         : 0.4\n",
            "Nilai maksimum        : 76.0\n"
          ]
        }
      ]
    },
    {
      "cell_type": "code",
      "source": [
        "tampil(\"Pot\")"
      ],
      "metadata": {
        "colab": {
          "base_uri": "https://localhost:8080/"
        },
        "id": "LmJPOFuWU95l",
        "outputId": "0b9bc39f-c534-4c6f-a5ad-a00d78c92075"
      },
      "execution_count": 28,
      "outputs": [
        {
          "output_type": "stream",
          "name": "stdout",
          "text": [
            "Nilai minimum         : 2.5\n",
            "Nilai maksimum        : 47.0\n"
          ]
        }
      ]
    },
    {
      "cell_type": "code",
      "source": [
        "tampil(\"Sod\")"
      ],
      "metadata": {
        "colab": {
          "base_uri": "https://localhost:8080/"
        },
        "id": "19wnQriyVCtk",
        "outputId": "86150863-ea70-4650-d3fa-c046471286bb"
      },
      "execution_count": 29,
      "outputs": [
        {
          "output_type": "stream",
          "name": "stdout",
          "text": [
            "Nilai minimum         : 4.5\n",
            "Nilai maksimum        : 163.0\n"
          ]
        }
      ]
    },
    {
      "cell_type": "markdown",
      "source": [
        "# Explore Data"
      ],
      "metadata": {
        "id": "KP7CE0-5VJSp"
      }
    },
    {
      "cell_type": "markdown",
      "source": [
        "# Visualisasi"
      ],
      "metadata": {
        "id": "BsQEG6tiVNT1"
      }
    },
    {
      "cell_type": "code",
      "source": [
        "import numpy as np \n",
        "import pandas as pd \n",
        "import seaborn as sns\n",
        "import plotly.express as px\n",
        "import matplotlib.pyplot as plt"
      ],
      "metadata": {
        "id": "v9cYgkXaVSH1"
      },
      "execution_count": 45,
      "outputs": []
    },
    {
      "cell_type": "code",
      "source": [
        "df"
      ],
      "metadata": {
        "colab": {
          "base_uri": "https://localhost:8080/",
          "height": 424
        },
        "id": "F2Ebjl-zXMvR",
        "outputId": "8c2d7313-8cba-4c74-971c-092d3f35e727"
      },
      "execution_count": 32,
      "outputs": [
        {
          "output_type": "execute_result",
          "data": {
            "text/plain": [
              "       Bp     Sg   Al   Su  Rbc    Bu   Sc     Sod   Pot  Hemo    Wbcc  Rbcc  \\\n",
              "0    80.0  1.020  1.0  0.0  1.0  36.0  1.2  137.53  4.63  15.4  7800.0  5.20   \n",
              "1    50.0  1.020  4.0  0.0  1.0  18.0  0.8  137.53  4.63  11.3  6000.0  4.71   \n",
              "2    80.0  1.010  2.0  3.0  1.0  53.0  1.8  137.53  4.63   9.6  7500.0  4.71   \n",
              "3    70.0  1.005  4.0  0.0  1.0  56.0  3.8  111.00  2.50  11.2  6700.0  3.90   \n",
              "4    80.0  1.010  2.0  0.0  1.0  26.0  1.4  137.53  4.63  11.6  7300.0  4.60   \n",
              "..    ...    ...  ...  ...  ...   ...  ...     ...   ...   ...     ...   ...   \n",
              "395  80.0  1.020  0.0  0.0  1.0  49.0  0.5  150.00  4.90  15.7  6700.0  4.90   \n",
              "396  70.0  1.025  0.0  0.0  1.0  31.0  1.2  141.00  3.50  16.5  7800.0  6.20   \n",
              "397  80.0  1.020  0.0  0.0  1.0  26.0  0.6  137.00  4.40  15.8  6600.0  5.40   \n",
              "398  60.0  1.025  0.0  0.0  1.0  50.0  1.0  135.00  4.90  14.2  7200.0  5.90   \n",
              "399  80.0  1.025  0.0  0.0  1.0  18.0  1.1  141.00  3.50  15.8  6800.0  6.10   \n",
              "\n",
              "     Htn  Class  \n",
              "0    1.0      1  \n",
              "1    0.0      1  \n",
              "2    0.0      1  \n",
              "3    1.0      1  \n",
              "4    0.0      1  \n",
              "..   ...    ...  \n",
              "395  0.0      0  \n",
              "396  0.0      0  \n",
              "397  0.0      0  \n",
              "398  0.0      0  \n",
              "399  0.0      0  \n",
              "\n",
              "[400 rows x 14 columns]"
            ],
            "text/html": [
              "\n",
              "  <div id=\"df-087cfaee-3c8f-4546-b195-6a5b82f6bfdd\">\n",
              "    <div class=\"colab-df-container\">\n",
              "      <div>\n",
              "<style scoped>\n",
              "    .dataframe tbody tr th:only-of-type {\n",
              "        vertical-align: middle;\n",
              "    }\n",
              "\n",
              "    .dataframe tbody tr th {\n",
              "        vertical-align: top;\n",
              "    }\n",
              "\n",
              "    .dataframe thead th {\n",
              "        text-align: right;\n",
              "    }\n",
              "</style>\n",
              "<table border=\"1\" class=\"dataframe\">\n",
              "  <thead>\n",
              "    <tr style=\"text-align: right;\">\n",
              "      <th></th>\n",
              "      <th>Bp</th>\n",
              "      <th>Sg</th>\n",
              "      <th>Al</th>\n",
              "      <th>Su</th>\n",
              "      <th>Rbc</th>\n",
              "      <th>Bu</th>\n",
              "      <th>Sc</th>\n",
              "      <th>Sod</th>\n",
              "      <th>Pot</th>\n",
              "      <th>Hemo</th>\n",
              "      <th>Wbcc</th>\n",
              "      <th>Rbcc</th>\n",
              "      <th>Htn</th>\n",
              "      <th>Class</th>\n",
              "    </tr>\n",
              "  </thead>\n",
              "  <tbody>\n",
              "    <tr>\n",
              "      <th>0</th>\n",
              "      <td>80.0</td>\n",
              "      <td>1.020</td>\n",
              "      <td>1.0</td>\n",
              "      <td>0.0</td>\n",
              "      <td>1.0</td>\n",
              "      <td>36.0</td>\n",
              "      <td>1.2</td>\n",
              "      <td>137.53</td>\n",
              "      <td>4.63</td>\n",
              "      <td>15.4</td>\n",
              "      <td>7800.0</td>\n",
              "      <td>5.20</td>\n",
              "      <td>1.0</td>\n",
              "      <td>1</td>\n",
              "    </tr>\n",
              "    <tr>\n",
              "      <th>1</th>\n",
              "      <td>50.0</td>\n",
              "      <td>1.020</td>\n",
              "      <td>4.0</td>\n",
              "      <td>0.0</td>\n",
              "      <td>1.0</td>\n",
              "      <td>18.0</td>\n",
              "      <td>0.8</td>\n",
              "      <td>137.53</td>\n",
              "      <td>4.63</td>\n",
              "      <td>11.3</td>\n",
              "      <td>6000.0</td>\n",
              "      <td>4.71</td>\n",
              "      <td>0.0</td>\n",
              "      <td>1</td>\n",
              "    </tr>\n",
              "    <tr>\n",
              "      <th>2</th>\n",
              "      <td>80.0</td>\n",
              "      <td>1.010</td>\n",
              "      <td>2.0</td>\n",
              "      <td>3.0</td>\n",
              "      <td>1.0</td>\n",
              "      <td>53.0</td>\n",
              "      <td>1.8</td>\n",
              "      <td>137.53</td>\n",
              "      <td>4.63</td>\n",
              "      <td>9.6</td>\n",
              "      <td>7500.0</td>\n",
              "      <td>4.71</td>\n",
              "      <td>0.0</td>\n",
              "      <td>1</td>\n",
              "    </tr>\n",
              "    <tr>\n",
              "      <th>3</th>\n",
              "      <td>70.0</td>\n",
              "      <td>1.005</td>\n",
              "      <td>4.0</td>\n",
              "      <td>0.0</td>\n",
              "      <td>1.0</td>\n",
              "      <td>56.0</td>\n",
              "      <td>3.8</td>\n",
              "      <td>111.00</td>\n",
              "      <td>2.50</td>\n",
              "      <td>11.2</td>\n",
              "      <td>6700.0</td>\n",
              "      <td>3.90</td>\n",
              "      <td>1.0</td>\n",
              "      <td>1</td>\n",
              "    </tr>\n",
              "    <tr>\n",
              "      <th>4</th>\n",
              "      <td>80.0</td>\n",
              "      <td>1.010</td>\n",
              "      <td>2.0</td>\n",
              "      <td>0.0</td>\n",
              "      <td>1.0</td>\n",
              "      <td>26.0</td>\n",
              "      <td>1.4</td>\n",
              "      <td>137.53</td>\n",
              "      <td>4.63</td>\n",
              "      <td>11.6</td>\n",
              "      <td>7300.0</td>\n",
              "      <td>4.60</td>\n",
              "      <td>0.0</td>\n",
              "      <td>1</td>\n",
              "    </tr>\n",
              "    <tr>\n",
              "      <th>...</th>\n",
              "      <td>...</td>\n",
              "      <td>...</td>\n",
              "      <td>...</td>\n",
              "      <td>...</td>\n",
              "      <td>...</td>\n",
              "      <td>...</td>\n",
              "      <td>...</td>\n",
              "      <td>...</td>\n",
              "      <td>...</td>\n",
              "      <td>...</td>\n",
              "      <td>...</td>\n",
              "      <td>...</td>\n",
              "      <td>...</td>\n",
              "      <td>...</td>\n",
              "    </tr>\n",
              "    <tr>\n",
              "      <th>395</th>\n",
              "      <td>80.0</td>\n",
              "      <td>1.020</td>\n",
              "      <td>0.0</td>\n",
              "      <td>0.0</td>\n",
              "      <td>1.0</td>\n",
              "      <td>49.0</td>\n",
              "      <td>0.5</td>\n",
              "      <td>150.00</td>\n",
              "      <td>4.90</td>\n",
              "      <td>15.7</td>\n",
              "      <td>6700.0</td>\n",
              "      <td>4.90</td>\n",
              "      <td>0.0</td>\n",
              "      <td>0</td>\n",
              "    </tr>\n",
              "    <tr>\n",
              "      <th>396</th>\n",
              "      <td>70.0</td>\n",
              "      <td>1.025</td>\n",
              "      <td>0.0</td>\n",
              "      <td>0.0</td>\n",
              "      <td>1.0</td>\n",
              "      <td>31.0</td>\n",
              "      <td>1.2</td>\n",
              "      <td>141.00</td>\n",
              "      <td>3.50</td>\n",
              "      <td>16.5</td>\n",
              "      <td>7800.0</td>\n",
              "      <td>6.20</td>\n",
              "      <td>0.0</td>\n",
              "      <td>0</td>\n",
              "    </tr>\n",
              "    <tr>\n",
              "      <th>397</th>\n",
              "      <td>80.0</td>\n",
              "      <td>1.020</td>\n",
              "      <td>0.0</td>\n",
              "      <td>0.0</td>\n",
              "      <td>1.0</td>\n",
              "      <td>26.0</td>\n",
              "      <td>0.6</td>\n",
              "      <td>137.00</td>\n",
              "      <td>4.40</td>\n",
              "      <td>15.8</td>\n",
              "      <td>6600.0</td>\n",
              "      <td>5.40</td>\n",
              "      <td>0.0</td>\n",
              "      <td>0</td>\n",
              "    </tr>\n",
              "    <tr>\n",
              "      <th>398</th>\n",
              "      <td>60.0</td>\n",
              "      <td>1.025</td>\n",
              "      <td>0.0</td>\n",
              "      <td>0.0</td>\n",
              "      <td>1.0</td>\n",
              "      <td>50.0</td>\n",
              "      <td>1.0</td>\n",
              "      <td>135.00</td>\n",
              "      <td>4.90</td>\n",
              "      <td>14.2</td>\n",
              "      <td>7200.0</td>\n",
              "      <td>5.90</td>\n",
              "      <td>0.0</td>\n",
              "      <td>0</td>\n",
              "    </tr>\n",
              "    <tr>\n",
              "      <th>399</th>\n",
              "      <td>80.0</td>\n",
              "      <td>1.025</td>\n",
              "      <td>0.0</td>\n",
              "      <td>0.0</td>\n",
              "      <td>1.0</td>\n",
              "      <td>18.0</td>\n",
              "      <td>1.1</td>\n",
              "      <td>141.00</td>\n",
              "      <td>3.50</td>\n",
              "      <td>15.8</td>\n",
              "      <td>6800.0</td>\n",
              "      <td>6.10</td>\n",
              "      <td>0.0</td>\n",
              "      <td>0</td>\n",
              "    </tr>\n",
              "  </tbody>\n",
              "</table>\n",
              "<p>400 rows × 14 columns</p>\n",
              "</div>\n",
              "      <button class=\"colab-df-convert\" onclick=\"convertToInteractive('df-087cfaee-3c8f-4546-b195-6a5b82f6bfdd')\"\n",
              "              title=\"Convert this dataframe to an interactive table.\"\n",
              "              style=\"display:none;\">\n",
              "        \n",
              "  <svg xmlns=\"http://www.w3.org/2000/svg\" height=\"24px\"viewBox=\"0 0 24 24\"\n",
              "       width=\"24px\">\n",
              "    <path d=\"M0 0h24v24H0V0z\" fill=\"none\"/>\n",
              "    <path d=\"M18.56 5.44l.94 2.06.94-2.06 2.06-.94-2.06-.94-.94-2.06-.94 2.06-2.06.94zm-11 1L8.5 8.5l.94-2.06 2.06-.94-2.06-.94L8.5 2.5l-.94 2.06-2.06.94zm10 10l.94 2.06.94-2.06 2.06-.94-2.06-.94-.94-2.06-.94 2.06-2.06.94z\"/><path d=\"M17.41 7.96l-1.37-1.37c-.4-.4-.92-.59-1.43-.59-.52 0-1.04.2-1.43.59L10.3 9.45l-7.72 7.72c-.78.78-.78 2.05 0 2.83L4 21.41c.39.39.9.59 1.41.59.51 0 1.02-.2 1.41-.59l7.78-7.78 2.81-2.81c.8-.78.8-2.07 0-2.86zM5.41 20L4 18.59l7.72-7.72 1.47 1.35L5.41 20z\"/>\n",
              "  </svg>\n",
              "      </button>\n",
              "      \n",
              "  <style>\n",
              "    .colab-df-container {\n",
              "      display:flex;\n",
              "      flex-wrap:wrap;\n",
              "      gap: 12px;\n",
              "    }\n",
              "\n",
              "    .colab-df-convert {\n",
              "      background-color: #E8F0FE;\n",
              "      border: none;\n",
              "      border-radius: 50%;\n",
              "      cursor: pointer;\n",
              "      display: none;\n",
              "      fill: #1967D2;\n",
              "      height: 32px;\n",
              "      padding: 0 0 0 0;\n",
              "      width: 32px;\n",
              "    }\n",
              "\n",
              "    .colab-df-convert:hover {\n",
              "      background-color: #E2EBFA;\n",
              "      box-shadow: 0px 1px 2px rgba(60, 64, 67, 0.3), 0px 1px 3px 1px rgba(60, 64, 67, 0.15);\n",
              "      fill: #174EA6;\n",
              "    }\n",
              "\n",
              "    [theme=dark] .colab-df-convert {\n",
              "      background-color: #3B4455;\n",
              "      fill: #D2E3FC;\n",
              "    }\n",
              "\n",
              "    [theme=dark] .colab-df-convert:hover {\n",
              "      background-color: #434B5C;\n",
              "      box-shadow: 0px 1px 3px 1px rgba(0, 0, 0, 0.15);\n",
              "      filter: drop-shadow(0px 1px 2px rgba(0, 0, 0, 0.3));\n",
              "      fill: #FFFFFF;\n",
              "    }\n",
              "  </style>\n",
              "\n",
              "      <script>\n",
              "        const buttonEl =\n",
              "          document.querySelector('#df-087cfaee-3c8f-4546-b195-6a5b82f6bfdd button.colab-df-convert');\n",
              "        buttonEl.style.display =\n",
              "          google.colab.kernel.accessAllowed ? 'block' : 'none';\n",
              "\n",
              "        async function convertToInteractive(key) {\n",
              "          const element = document.querySelector('#df-087cfaee-3c8f-4546-b195-6a5b82f6bfdd');\n",
              "          const dataTable =\n",
              "            await google.colab.kernel.invokeFunction('convertToInteractive',\n",
              "                                                     [key], {});\n",
              "          if (!dataTable) return;\n",
              "\n",
              "          const docLinkHtml = 'Like what you see? Visit the ' +\n",
              "            '<a target=\"_blank\" href=https://colab.research.google.com/notebooks/data_table.ipynb>data table notebook</a>'\n",
              "            + ' to learn more about interactive tables.';\n",
              "          element.innerHTML = '';\n",
              "          dataTable['output_type'] = 'display_data';\n",
              "          await google.colab.output.renderOutput(dataTable, element);\n",
              "          const docLink = document.createElement('div');\n",
              "          docLink.innerHTML = docLinkHtml;\n",
              "          element.appendChild(docLink);\n",
              "        }\n",
              "      </script>\n",
              "    </div>\n",
              "  </div>\n",
              "  "
            ]
          },
          "metadata": {},
          "execution_count": 32
        }
      ]
    },
    {
      "cell_type": "code",
      "source": [
        "sns.countplot(data=df,x=\"Al\")"
      ],
      "metadata": {
        "colab": {
          "base_uri": "https://localhost:8080/",
          "height": 475
        },
        "id": "ctruldLbXPgn",
        "outputId": "8cd630bb-c86a-4daf-d1db-7813a542a1df"
      },
      "execution_count": 33,
      "outputs": [
        {
          "output_type": "execute_result",
          "data": {
            "text/plain": [
              "<Axes: xlabel='Al', ylabel='count'>"
            ]
          },
          "metadata": {},
          "execution_count": 33
        },
        {
          "output_type": "display_data",
          "data": {
            "text/plain": [
              "<Figure size 640x480 with 1 Axes>"
            ],
            "image/png": "[encoded data removed]"
          },
          "metadata": {}
        }
      ]
    },
    {
      "cell_type": "code",
      "source": [
        "sns.countplot(data=df,x=\"Class\")"
      ],
      "metadata": {
        "colab": {
          "base_uri": "https://localhost:8080/",
          "height": 475
        },
        "id": "2DuOzSGTX-Ia",
        "outputId": "169564af-b795-4e03-b401-bc2db1514a58"
      },
      "execution_count": 37,
      "outputs": [
        {
          "output_type": "execute_result",
          "data": {
            "text/plain": [
              "<Axes: xlabel='Class', ylabel='count'>"
            ]
          },
          "metadata": {},
          "execution_count": 37
        },
        {
          "output_type": "display_data",
          "data": {
            "text/plain": [
              "<Figure size 640x480 with 1 Axes>"
            ],
            "image/png": "[encoded data removed]"
          },
          "metadata": {}
        }
      ]
    },
    {
      "cell_type": "code",
      "source": [
        "sns.boxplot(data=df,x=\"Sg\")"
      ],
      "metadata": {
        "colab": {
          "base_uri": "https://localhost:8080/",
          "height": 475
        },
        "id": "eFAcozqDYOsg",
        "outputId": "9a65cbb7-0342-4875-9229-58d7b08ebe0f"
      },
      "execution_count": 40,
      "outputs": [
        {
          "output_type": "execute_result",
          "data": {
            "text/plain": [
              "<Axes: xlabel='Sg'>"
            ]
          },
          "metadata": {},
          "execution_count": 40
        },
        {
          "output_type": "display_data",
          "data": {
            "text/plain": [
              "<Figure size 640x480 with 1 Axes>"
            ],
            "image/png": "[encoded data removed]"
          },
          "metadata": {}
        }
      ]
    },
    {
      "cell_type": "code",
      "source": [
        "sns.scatterplot(data=df,x=\"Al\",y=\"Sc\")"
      ],
      "metadata": {
        "colab": {
          "base_uri": "https://localhost:8080/",
          "height": 475
        },
        "id": "SRnXDndHZAZx",
        "outputId": "1f7994e1-f2a4-4ead-d38f-1d5e27561240"
      },
      "execution_count": 41,
      "outputs": [
        {
          "output_type": "execute_result",
          "data": {
            "text/plain": [
              "<Axes: xlabel='Al', ylabel='Sc'>"
            ]
          },
          "metadata": {},
          "execution_count": 41
        },
        {
          "output_type": "display_data",
          "data": {
            "text/plain": [
              "<Figure size 640x480 with 1 Axes>"
            ],
            "image/png": "[encoded data removed]"
          },
          "metadata": {}
        }
      ]
    },
    {
      "cell_type": "code",
      "source": [
        "px.pie(df,names=\"Pot\")"
      ],
      "metadata": {
        "colab": {
          "base_uri": "https://localhost:8080/",
          "height": 542
        },
        "id": "kdZO3qYSZZRB",
        "outputId": "78dbbc21-cabf-422b-fd61-66d0f5737203"
      },
      "execution_count": 44,
      "outputs": [
        {
          "output_type": "display_data",
          "data": {
            "text/html": [
              "<html>\n",
              "<head><meta charset=\"utf-8\" /></head>\n",
              "<body>\n",
              "    <div>            <script src=\"https://cdnjs.cloudflare.com/ajax/libs/mathjax/2.7.5/MathJax.js?config=TeX-AMS-MML_SVG\"></script><script type=\"text/javascript\">if (window.MathJax && window.MathJax.Hub && window.MathJax.Hub.Config) {window.MathJax.Hub.Config({SVG: {font: \"STIX-Web\"}});}</script>                <script type=\"text/javascript\">window.PlotlyConfig = {MathJaxConfig: 'local'};</script>\n",
              "        <script src=\"https://cdn.plot.ly/plotly-2.18.2.min.js\"></script>                <div id=\"ddd13c94-8d72-49fb-8c12-bee2d7833882\" class=\"plotly-graph-div\" style=\"height:525px; width:100%;\"></div>            <script type=\"text/javascript\">                                    window.PLOTLYENV=window.PLOTLYENV || {};                                    if (document.getElementById(\"ddd13c94-8d72-49fb-8c12-bee2d7833882\")) {                    Plotly.newPlot(                        \"ddd13c94-8d72-49fb-8c12-bee2d7833882\",                        [{\"domain\":{\"x\":[0.0,1.0],\"y\":[0.0,1.0]},\"hovertemplate\":\"Pot=%{label}<extra></extra>\",\"labels\":[4.63,4.63,4.63,2.5,4.63,3.2,4.0,4.63,4.63,3.7,4.63,4.2,5.8,3.4,6.4,4.9,4.1,3.7,4.3,4.63,5.2,4.63,3.8,4.63,4.0,5.2,3.4,4.0,4.63,4.63,4.9,4.6,4.9,4.63,4.63,4.63,3.9,4.7,5.9,4.2,4.63,4.63,4.2,3.4,4.8,4.9,4.2,4.63,4.0,4.63,4.3,4.4,4.63,4.63,4.2,4.63,4.4,4.9,5.8,4.63,6.6,39.0,4.0,3.7,4.63,4.63,4.8,4.63,4.63,4.63,4.4,4.0,4.63,4.4,4.8,3.2,5.5,5.0,3.5,4.63,5.0,4.4,3.9,3.6,7.6,4.63,4.63,4.63,4.63,4.7,3.5,3.8,4.4,2.9,4.5,3.7,4.63,3.8,4.3,3.9,3.8,5.7,4.2,4.63,4.63,4.0,4.4,4.5,4.2,4.63,3.8,5.4,4.63,4.63,4.63,4.63,4.63,3.7,4.63,4.63,5.3,3.4,3.8,4.63,4.63,4.3,4.6,4.9,47.0,4.7,4.8,4.63,4.5,4.9,5.2,4.0,6.3,5.1,3.5,4.1,5.6,4.9,5.3,4.7,5.2,4.8,4.0,3.0,4.63,4.63,4.63,5.5,3.5,3.4,4.2,4.63,4.63,4.7,4.0,3.5,4.2,4.63,4.1,4.1,4.2,4.63,4.3,4.63,4.63,4.63,3.9,5.7,2.5,2.8,4.7,3.0,3.5,4.63,4.3,4.63,4.63,3.8,4.1,4.3,4.5,4.4,3.8,4.63,3.6,5.4,4.9,2.7,4.63,6.5,4.63,3.9,3.2,5.3,4.7,5.2,4.1,4.3,5.9,5.5,6.3,4.63,4.0,4.63,4.63,4.63,5.7,4.63,5.6,4.9,4.63,4.63,4.63,4.4,4.63,4.63,4.63,5.3,4.63,4.1,3.8,3.8,4.6,4.63,4.63,2.9,4.3,3.7,4.63,4.5,4.63,4.63,5.4,4.63,4.8,4.1,4.63,3.3,3.9,2.9,4.1,6.3,5.7,4.2,4.5,6.5,5.0,4.6,4.4,4.7,3.7,3.9,5.0,3.7,3.5,5.0,3.8,3.9,3.6,5.0,4.1,4.5,4.8,3.9,5.0,4.9,4.0,4.8,5.0,4.1,4.2,4.6,4.7,5.0,4.9,4.7,4.5,5.0,3.8,4.63,4.0,3.9,5.0,3.8,4.9,4.7,3.5,4.9,5.0,4.8,5.0,3.6,5.0,4.9,4.5,3.5,4.2,4.5,5.0,4.63,3.9,5.0,4.5,3.5,4.9,5.0,4.9,4.7,4.1,4.8,5.0,4.63,4.9,4.3,3.5,4.4,4.7,3.5,4.6,5.0,4.9,3.5,4.7,4.6,4.9,3.5,3.9,4.7,5.0,4.0,3.5,4.8,4.63,4.9,3.5,3.5,4.5,5.0,4.2,4.1,3.3,4.3,4.4,5.0,3.5,3.5,4.8,3.3,4.9,5.0,4.7,5.0,4.8,3.6,3.5,3.7,3.9,3.5,5.0,4.63,3.5,3.5,3.6,3.8,5.0,3.5,3.7,5.0,4.9,3.6,3.6,4.5,3.5,4.8,4.8,3.5,3.5,4.8,5.0,4.9,4.7,4.9,3.5,3.9,3.7,5.0,3.7,4.1,4.3,4.4,5.0,4.9,3.5,4.4,4.9,3.5],\"legendgroup\":\"\",\"name\":\"\",\"showlegend\":true,\"type\":\"pie\"}],                        {\"template\":{\"data\":{\"histogram2dcontour\":[{\"type\":\"histogram2dcontour\",\"colorbar\":{\"outlinewidth\":0,\"ticks\":\"\"},\"colorscale\":[[0.0,\"#0d0887\"],[0.1111111111111111,\"#46039f\"],[0.2222222222222222,\"#7201a8\"],[0.3333333333333333,\"#9c179e\"],[0.4444444444444444,\"#bd3786\"],[0.5555555555555556,\"#d8576b\"],[0.6666666666666666,\"#ed7953\"],[0.7777777777777778,\"#fb9f3a\"],[0.8888888888888888,\"#fdca26\"],[1.0,\"#f0f921\"]]}],\"choropleth\":[{\"type\":\"choropleth\",\"colorbar\":{\"outlinewidth\":0,\"ticks\":\"\"}}],\"histogram2d\":[{\"type\":\"histogram2d\",\"colorbar\":{\"outlinewidth\":0,\"ticks\":\"\"},\"colorscale\":[[0.0,\"#0d0887\"],[0.1111111111111111,\"#46039f\"],[0.2222222222222222,\"#7201a8\"],[0.3333333333333333,\"#9c179e\"],[0.4444444444444444,\"#bd3786\"],[0.5555555555555556,\"#d8576b\"],[0.6666666666666666,\"#ed7953\"],[0.7777777777777778,\"#fb9f3a\"],[0.8888888888888888,\"#fdca26\"],[1.0,\"#f0f921\"]]}],\"heatmap\":[{\"type\":\"heatmap\",\"colorbar\":{\"outlinewidth\":0,\"ticks\":\"\"},\"colorscale\":[[0.0,\"#0d0887\"],[0.1111111111111111,\"#46039f\"],[0.2222222222222222,\"#7201a8\"],[0.3333333333333333,\"#9c179e\"],[0.4444444444444444,\"#bd3786\"],[0.5555555555555556,\"#d8576b\"],[0.6666666666666666,\"#ed7953\"],[0.7777777777777778,\"#fb9f3a\"],[0.8888888888888888,\"#fdca26\"],[1.0,\"#f0f921\"]]}],\"heatmapgl\":[{\"type\":\"heatmapgl\",\"colorbar\":{\"outlinewidth\":0,\"ticks\":\"\"},\"colorscale\":[[0.0,\"#0d0887\"],[0.1111111111111111,\"#46039f\"],[0.2222222222222222,\"#7201a8\"],[0.3333333333333333,\"#9c179e\"],[0.4444444444444444,\"#bd3786\"],[0.5555555555555556,\"#d8576b\"],[0.6666666666666666,\"#ed7953\"],[0.7777777777777778,\"#fb9f3a\"],[0.8888888888888888,\"#fdca26\"],[1.0,\"#f0f921\"]]}],\"contourcarpet\":[{\"type\":\"contourcarpet\",\"colorbar\":{\"outlinewidth\":0,\"ticks\":\"\"}}],\"contour\":[{\"type\":\"contour\",\"colorbar\":{\"outlinewidth\":0,\"ticks\":\"\"},\"colorscale\":[[0.0,\"#0d0887\"],[0.1111111111111111,\"#46039f\"],[0.2222222222222222,\"#7201a8\"],[0.3333333333333333,\"#9c179e\"],[0.4444444444444444,\"#bd3786\"],[0.5555555555555556,\"#d8576b\"],[0.6666666666666666,\"#ed7953\"],[0.7777777777777778,\"#fb9f3a\"],[0.8888888888888888,\"#fdca26\"],[1.0,\"#f0f921\"]]}],\"surface\":[{\"type\":\"surface\",\"colorbar\":{\"outlinewidth\":0,\"ticks\":\"\"},\"colorscale\":[[0.0,\"#0d0887\"],[0.1111111111111111,\"#46039f\"],[0.2222222222222222,\"#7201a8\"],[0.3333333333333333,\"#9c179e\"],[0.4444444444444444,\"#bd3786\"],[0.5555555555555556,\"#d8576b\"],[0.6666666666666666,\"#ed7953\"],[0.7777777777777778,\"#fb9f3a\"],[0.8888888888888888,\"#fdca26\"],[1.0,\"#f0f921\"]]}],\"mesh3d\":[{\"type\":\"mesh3d\",\"colorbar\":{\"outlinewidth\":0,\"ticks\":\"\"}}],\"scatter\":[{\"fillpattern\":{\"fillmode\":\"overlay\",\"size\":10,\"solidity\":0.2},\"type\":\"scatter\"}],\"parcoords\":[{\"type\":\"parcoords\",\"line\":{\"colorbar\":{\"outlinewidth\":0,\"ticks\":\"\"}}}],\"scatterpolargl\":[{\"type\":\"scatterpolargl\",\"marker\":{\"colorbar\":{\"outlinewidth\":0,\"ticks\":\"\"}}}],\"bar\":[{\"error_x\":{\"color\":\"#2a3f5f\"},\"error_y\":{\"color\":\"#2a3f5f\"},\"marker\":{\"line\":{\"color\":\"#E5ECF6\",\"width\":0.5},\"pattern\":{\"fillmode\":\"overlay\",\"size\":10,\"solidity\":0.2}},\"type\":\"bar\"}],\"scattergeo\":[{\"type\":\"scattergeo\",\"marker\":{\"colorbar\":{\"outlinewidth\":0,\"ticks\":\"\"}}}],\"scatterpolar\":[{\"type\":\"scatterpolar\",\"marker\":{\"colorbar\":{\"outlinewidth\":0,\"ticks\":\"\"}}}],\"histogram\":[{\"marker\":{\"pattern\":{\"fillmode\":\"overlay\",\"size\":10,\"solidity\":0.2}},\"type\":\"histogram\"}],\"scattergl\":[{\"type\":\"scattergl\",\"marker\":{\"colorbar\":{\"outlinewidth\":0,\"ticks\":\"\"}}}],\"scatter3d\":[{\"type\":\"scatter3d\",\"line\":{\"colorbar\":{\"outlinewidth\":0,\"ticks\":\"\"}},\"marker\":{\"colorbar\":{\"outlinewidth\":0,\"ticks\":\"\"}}}],\"scattermapbox\":[{\"type\":\"scattermapbox\",\"marker\":{\"colorbar\":{\"outlinewidth\":0,\"ticks\":\"\"}}}],\"scatterternary\":[{\"type\":\"scatterternary\",\"marker\":{\"colorbar\":{\"outlinewidth\":0,\"ticks\":\"\"}}}],\"scattercarpet\":[{\"type\":\"scattercarpet\",\"marker\":{\"colorbar\":{\"outlinewidth\":0,\"ticks\":\"\"}}}],\"carpet\":[{\"aaxis\":{\"endlinecolor\":\"#2a3f5f\",\"gridcolor\":\"white\",\"linecolor\":\"white\",\"minorgridcolor\":\"white\",\"startlinecolor\":\"#2a3f5f\"},\"baxis\":{\"endlinecolor\":\"#2a3f5f\",\"gridcolor\":\"white\",\"linecolor\":\"white\",\"minorgridcolor\":\"white\",\"startlinecolor\":\"#2a3f5f\"},\"type\":\"carpet\"}],\"table\":[{\"cells\":{\"fill\":{\"color\":\"#EBF0F8\"},\"line\":{\"color\":\"white\"}},\"header\":{\"fill\":{\"color\":\"#C8D4E3\"},\"line\":{\"color\":\"white\"}},\"type\":\"table\"}],\"barpolar\":[{\"marker\":{\"line\":{\"color\":\"#E5ECF6\",\"width\":0.5},\"pattern\":{\"fillmode\":\"overlay\",\"size\":10,\"solidity\":0.2}},\"type\":\"barpolar\"}],\"pie\":[{\"automargin\":true,\"type\":\"pie\"}]},\"layout\":{\"autotypenumbers\":\"strict\",\"colorway\":[\"#636efa\",\"#EF553B\",\"#00cc96\",\"#ab63fa\",\"#FFA15A\",\"#19d3f3\",\"#FF6692\",\"#B6E880\",\"#FF97FF\",\"#FECB52\"],\"font\":{\"color\":\"#2a3f5f\"},\"hovermode\":\"closest\",\"hoverlabel\":{\"align\":\"left\"},\"paper_bgcolor\":\"white\",\"plot_bgcolor\":\"#E5ECF6\",\"polar\":{\"bgcolor\":\"#E5ECF6\",\"angularaxis\":{\"gridcolor\":\"white\",\"linecolor\":\"white\",\"ticks\":\"\"},\"radialaxis\":{\"gridcolor\":\"white\",\"linecolor\":\"white\",\"ticks\":\"\"}},\"ternary\":{\"bgcolor\":\"#E5ECF6\",\"aaxis\":{\"gridcolor\":\"white\",\"linecolor\":\"white\",\"ticks\":\"\"},\"baxis\":{\"gridcolor\":\"white\",\"linecolor\":\"white\",\"ticks\":\"\"},\"caxis\":{\"gridcolor\":\"white\",\"linecolor\":\"white\",\"ticks\":\"\"}},\"coloraxis\":{\"colorbar\":{\"outlinewidth\":0,\"ticks\":\"\"}},\"colorscale\":{\"sequential\":[[0.0,\"#0d0887\"],[0.1111111111111111,\"#46039f\"],[0.2222222222222222,\"#7201a8\"],[0.3333333333333333,\"#9c179e\"],[0.4444444444444444,\"#bd3786\"],[0.5555555555555556,\"#d8576b\"],[0.6666666666666666,\"#ed7953\"],[0.7777777777777778,\"#fb9f3a\"],[0.8888888888888888,\"#fdca26\"],[1.0,\"#f0f921\"]],\"sequentialminus\":[[0.0,\"#0d0887\"],[0.1111111111111111,\"#46039f\"],[0.2222222222222222,\"#7201a8\"],[0.3333333333333333,\"#9c179e\"],[0.4444444444444444,\"#bd3786\"],[0.5555555555555556,\"#d8576b\"],[0.6666666666666666,\"#ed7953\"],[0.7777777777777778,\"#fb9f3a\"],[0.8888888888888888,\"#fdca26\"],[1.0,\"#f0f921\"]],\"diverging\":[[0,\"#8e0152\"],[0.1,\"#c51b7d\"],[0.2,\"#de77ae\"],[0.3,\"#f1b6da\"],[0.4,\"#fde0ef\"],[0.5,\"#f7f7f7\"],[0.6,\"#e6f5d0\"],[0.7,\"#b8e186\"],[0.8,\"#7fbc41\"],[0.9,\"#4d9221\"],[1,\"#276419\"]]},\"xaxis\":{\"gridcolor\":\"white\",\"linecolor\":\"white\",\"ticks\":\"\",\"title\":{\"standoff\":15},\"zerolinecolor\":\"white\",\"automargin\":true,\"zerolinewidth\":2},\"yaxis\":{\"gridcolor\":\"white\",\"linecolor\":\"white\",\"ticks\":\"\",\"title\":{\"standoff\":15},\"zerolinecolor\":\"white\",\"automargin\":true,\"zerolinewidth\":2},\"scene\":{\"xaxis\":{\"backgroundcolor\":\"#E5ECF6\",\"gridcolor\":\"white\",\"linecolor\":\"white\",\"showbackground\":true,\"ticks\":\"\",\"zerolinecolor\":\"white\",\"gridwidth\":2},\"yaxis\":{\"backgroundcolor\":\"#E5ECF6\",\"gridcolor\":\"white\",\"linecolor\":\"white\",\"showbackground\":true,\"ticks\":\"\",\"zerolinecolor\":\"white\",\"gridwidth\":2},\"zaxis\":{\"backgroundcolor\":\"#E5ECF6\",\"gridcolor\":\"white\",\"linecolor\":\"white\",\"showbackground\":true,\"ticks\":\"\",\"zerolinecolor\":\"white\",\"gridwidth\":2}},\"shapedefaults\":{\"line\":{\"color\":\"#2a3f5f\"}},\"annotationdefaults\":{\"arrowcolor\":\"#2a3f5f\",\"arrowhead\":0,\"arrowwidth\":1},\"geo\":{\"bgcolor\":\"white\",\"landcolor\":\"#E5ECF6\",\"subunitcolor\":\"white\",\"showland\":true,\"showlakes\":true,\"lakecolor\":\"white\"},\"title\":{\"x\":0.05},\"mapbox\":{\"style\":\"light\"}}},\"legend\":{\"tracegroupgap\":0},\"margin\":{\"t\":60}},                        {\"responsive\": true}                    ).then(function(){\n",
              "                            \n",
              "var gd = document.getElementById('ddd13c94-8d72-49fb-8c12-bee2d7833882');\n",
              "var x = new MutationObserver(function (mutations, observer) {{\n",
              "        var display = window.getComputedStyle(gd).display;\n",
              "        if (!display || display === 'none') {{\n",
              "            console.log([gd, 'removed!']);\n",
              "            Plotly.purge(gd);\n",
              "            observer.disconnect();\n",
              "        }}\n",
              "}});\n",
              "\n",
              "// Listen for the removal of the full notebook cells\n",
              "var notebookContainer = gd.closest('#notebook-container');\n",
              "if (notebookContainer) {{\n",
              "    x.observe(notebookContainer, {childList: true});\n",
              "}}\n",
              "\n",
              "// Listen for the clearing of the current output cell\n",
              "var outputEl = gd.closest('.output');\n",
              "if (outputEl) {{\n",
              "    x.observe(outputEl, {childList: true});\n",
              "}}\n",
              "\n",
              "                        })                };                            </script>        </div>\n",
              "</body>\n",
              "</html>"
            ]
          },
          "metadata": {}
        }
      ]
    },
    {
      "cell_type": "code",
      "source": [
        "cormat = df.corr()\n",
        "fig, ax = plt.subplots(figsize = (12, 8))\n",
        "sns.heatmap(ax = ax, data = cormat, annot = True)\n",
        "plt.show()"
      ],
      "metadata": {
        "colab": {
          "base_uri": "https://localhost:8080/",
          "height": 687
        },
        "id": "ffiH5nQyZ34X",
        "outputId": "1d68d8fc-a030-410d-9a7f-f63962a0c257"
      },
      "execution_count": 46,
      "outputs": [
        {
          "output_type": "display_data",
          "data": {
            "text/plain": [
              "<Figure size 1200x800 with 2 Axes>"
            ],
            "image/png": "[encoded data removed]"
          },
          "metadata": {}
        }
      ]
    },
    {
      "cell_type": "markdown",
      "source": [
        "# Verify Data Qualify"
      ],
      "metadata": {
        "id": "0RFxVpmtgBny"
      }
    },
    {
      "cell_type": "code",
      "source": [
        "# mengecek missing value\n",
        "missing_values = df.isnull().sum()\n",
        "print(\"Missing values:\\n\", missing_values)"
      ],
      "metadata": {
        "colab": {
          "base_uri": "https://localhost:8080/"
        },
        "id": "cJ_fJuzaaxuI",
        "outputId": "63a2b1f5-a028-43fc-ba07-87c24bc1eb9e"
      },
      "execution_count": 47,
      "outputs": [
        {
          "output_type": "stream",
          "name": "stdout",
          "text": [
            "Missing values:\n",
            " Bp       0\n",
            "Sg       0\n",
            "Al       0\n",
            "Su       0\n",
            "Rbc      0\n",
            "Bu       0\n",
            "Sc       0\n",
            "Sod      0\n",
            "Pot      0\n",
            "Hemo     0\n",
            "Wbcc     0\n",
            "Rbcc     0\n",
            "Htn      0\n",
            "Class    0\n",
            "dtype: int64\n"
          ]
        }
      ]
    },
    {
      "cell_type": "code",
      "source": [
        "# mengecek duplikasi data\n",
        "duplicate_rows = df.duplicated()\n",
        "print(\"Number of duplicate rows:\", duplicate_rows.sum())"
      ],
      "metadata": {
        "colab": {
          "base_uri": "https://localhost:8080/"
        },
        "id": "JuJ7eqC2gRqS",
        "outputId": "f5807555-5fa4-4d6f-b177-75d8cce0b8e0"
      },
      "execution_count": 48,
      "outputs": [
        {
          "output_type": "stream",
          "name": "stdout",
          "text": [
            "Number of duplicate rows: 0\n"
          ]
        }
      ]
    },
    {
      "cell_type": "code",
      "source": [
        "# mengeck outliners\n",
        "Q1 = df.quantile(0.25)\n",
        "Q3 = df.quantile(0.75)\n",
        "IQR = Q3 - Q1\n",
        "outliers = ((df < (Q1 - 1.5 * IQR)) | (df > (Q3 + 1.5 * IQR))).sum()\n",
        "print(\"Outliers:\\n\", outliers)"
      ],
      "metadata": {
        "colab": {
          "base_uri": "https://localhost:8080/"
        },
        "id": "i7F_qRPxgjlX",
        "outputId": "2dd96c6e-d078-4a00-b1ac-b0cfbf1a5545"
      },
      "execution_count": 49,
      "outputs": [
        {
          "output_type": "stream",
          "name": "stdout",
          "text": [
            "Outliers:\n",
            " Bp       36\n",
            "Sg        7\n",
            "Al        0\n",
            "Su       61\n",
            "Rbc      47\n",
            "Bu       41\n",
            "Sc       44\n",
            "Sod      18\n",
            "Pot      14\n",
            "Hemo      2\n",
            "Wbcc     17\n",
            "Rbcc     75\n",
            "Htn       0\n",
            "Class     0\n",
            "dtype: int64\n"
          ]
        }
      ]
    },
    {
      "cell_type": "code",
      "source": [
        "# menngecek tipe data\n",
        "print(\"Data types:\\n\", df.dtypes)"
      ],
      "metadata": {
        "colab": {
          "base_uri": "https://localhost:8080/"
        },
        "id": "EeN-BDX-gs3i",
        "outputId": "bf6cccea-22ed-4be7-9587-204799d64461"
      },
      "execution_count": 50,
      "outputs": [
        {
          "output_type": "stream",
          "name": "stdout",
          "text": [
            "Data types:\n",
            " Bp       float64\n",
            "Sg       float64\n",
            "Al       float64\n",
            "Su       float64\n",
            "Rbc      float64\n",
            "Bu       float64\n",
            "Sc       float64\n",
            "Sod      float64\n",
            "Pot      float64\n",
            "Hemo     float64\n",
            "Wbcc     float64\n",
            "Rbcc     float64\n",
            "Htn      float64\n",
            "Class      int64\n",
            "dtype: object\n"
          ]
        }
      ]
    },
    {
      "cell_type": "markdown",
      "source": [
        "# Data Preparation"
      ],
      "metadata": {
        "id": "VKd-_uOkg3CO"
      }
    },
    {
      "cell_type": "markdown",
      "source": [
        "Select Data"
      ],
      "metadata": {
        "id": "aX0nq4BFg-Cu"
      }
    },
    {
      "cell_type": "code",
      "source": [
        "import pandas as pd"
      ],
      "metadata": {
        "id": "Zd2OIUkRhBp_"
      },
      "execution_count": 51,
      "outputs": []
    },
    {
      "cell_type": "code",
      "source": [
        "df = pd.read_csv(\"new_model.csv\")\n",
        "df"
      ],
      "metadata": {
        "colab": {
          "base_uri": "https://localhost:8080/",
          "height": 424
        },
        "id": "V6i5qa11hIBC",
        "outputId": "b78ed612-ee38-4630-bed5-48ff31c42c71"
      },
      "execution_count": 52,
      "outputs": [
        {
          "output_type": "execute_result",
          "data": {
            "text/plain": [
              "       Bp     Sg   Al   Su  Rbc    Bu   Sc     Sod   Pot  Hemo    Wbcc  Rbcc  \\\n",
              "0    80.0  1.020  1.0  0.0  1.0  36.0  1.2  137.53  4.63  15.4  7800.0  5.20   \n",
              "1    50.0  1.020  4.0  0.0  1.0  18.0  0.8  137.53  4.63  11.3  6000.0  4.71   \n",
              "2    80.0  1.010  2.0  3.0  1.0  53.0  1.8  137.53  4.63   9.6  7500.0  4.71   \n",
              "3    70.0  1.005  4.0  0.0  1.0  56.0  3.8  111.00  2.50  11.2  6700.0  3.90   \n",
              "4    80.0  1.010  2.0  0.0  1.0  26.0  1.4  137.53  4.63  11.6  7300.0  4.60   \n",
              "..    ...    ...  ...  ...  ...   ...  ...     ...   ...   ...     ...   ...   \n",
              "395  80.0  1.020  0.0  0.0  1.0  49.0  0.5  150.00  4.90  15.7  6700.0  4.90   \n",
              "396  70.0  1.025  0.0  0.0  1.0  31.0  1.2  141.00  3.50  16.5  7800.0  6.20   \n",
              "397  80.0  1.020  0.0  0.0  1.0  26.0  0.6  137.00  4.40  15.8  6600.0  5.40   \n",
              "398  60.0  1.025  0.0  0.0  1.0  50.0  1.0  135.00  4.90  14.2  7200.0  5.90   \n",
              "399  80.0  1.025  0.0  0.0  1.0  18.0  1.1  141.00  3.50  15.8  6800.0  6.10   \n",
              "\n",
              "     Htn  Class  \n",
              "0    1.0      1  \n",
              "1    0.0      1  \n",
              "2    0.0      1  \n",
              "3    1.0      1  \n",
              "4    0.0      1  \n",
              "..   ...    ...  \n",
              "395  0.0      0  \n",
              "396  0.0      0  \n",
              "397  0.0      0  \n",
              "398  0.0      0  \n",
              "399  0.0      0  \n",
              "\n",
              "[400 rows x 14 columns]"
            ],
            "text/html": [
              "\n",
              "  <div id=\"df-108f2030-1e6f-46ad-a4c5-99303e3116d1\">\n",
              "    <div class=\"colab-df-container\">\n",
              "      <div>\n",
              "<style scoped>\n",
              "    .dataframe tbody tr th:only-of-type {\n",
              "        vertical-align: middle;\n",
              "    }\n",
              "\n",
              "    .dataframe tbody tr th {\n",
              "        vertical-align: top;\n",
              "    }\n",
              "\n",
              "    .dataframe thead th {\n",
              "        text-align: right;\n",
              "    }\n",
              "</style>\n",
              "<table border=\"1\" class=\"dataframe\">\n",
              "  <thead>\n",
              "    <tr style=\"text-align: right;\">\n",
              "      <th></th>\n",
              "      <th>Bp</th>\n",
              "      <th>Sg</th>\n",
              "      <th>Al</th>\n",
              "      <th>Su</th>\n",
              "      <th>Rbc</th>\n",
              "      <th>Bu</th>\n",
              "      <th>Sc</th>\n",
              "      <th>Sod</th>\n",
              "      <th>Pot</th>\n",
              "      <th>Hemo</th>\n",
              "      <th>Wbcc</th>\n",
              "      <th>Rbcc</th>\n",
              "      <th>Htn</th>\n",
              "      <th>Class</th>\n",
              "    </tr>\n",
              "  </thead>\n",
              "  <tbody>\n",
              "    <tr>\n",
              "      <th>0</th>\n",
              "      <td>80.0</td>\n",
              "      <td>1.020</td>\n",
              "      <td>1.0</td>\n",
              "      <td>0.0</td>\n",
              "      <td>1.0</td>\n",
              "      <td>36.0</td>\n",
              "      <td>1.2</td>\n",
              "      <td>137.53</td>\n",
              "      <td>4.63</td>\n",
              "      <td>15.4</td>\n",
              "      <td>7800.0</td>\n",
              "      <td>5.20</td>\n",
              "      <td>1.0</td>\n",
              "      <td>1</td>\n",
              "    </tr>\n",
              "    <tr>\n",
              "      <th>1</th>\n",
              "      <td>50.0</td>\n",
              "      <td>1.020</td>\n",
              "      <td>4.0</td>\n",
              "      <td>0.0</td>\n",
              "      <td>1.0</td>\n",
              "      <td>18.0</td>\n",
              "      <td>0.8</td>\n",
              "      <td>137.53</td>\n",
              "      <td>4.63</td>\n",
              "      <td>11.3</td>\n",
              "      <td>6000.0</td>\n",
              "      <td>4.71</td>\n",
              "      <td>0.0</td>\n",
              "      <td>1</td>\n",
              "    </tr>\n",
              "    <tr>\n",
              "      <th>2</th>\n",
              "      <td>80.0</td>\n",
              "      <td>1.010</td>\n",
              "      <td>2.0</td>\n",
              "      <td>3.0</td>\n",
              "      <td>1.0</td>\n",
              "      <td>53.0</td>\n",
              "      <td>1.8</td>\n",
              "      <td>137.53</td>\n",
              "      <td>4.63</td>\n",
              "      <td>9.6</td>\n",
              "      <td>7500.0</td>\n",
              "      <td>4.71</td>\n",
              "      <td>0.0</td>\n",
              "      <td>1</td>\n",
              "    </tr>\n",
              "    <tr>\n",
              "      <th>3</th>\n",
              "      <td>70.0</td>\n",
              "      <td>1.005</td>\n",
              "      <td>4.0</td>\n",
              "      <td>0.0</td>\n",
              "      <td>1.0</td>\n",
              "      <td>56.0</td>\n",
              "      <td>3.8</td>\n",
              "      <td>111.00</td>\n",
              "      <td>2.50</td>\n",
              "      <td>11.2</td>\n",
              "      <td>6700.0</td>\n",
              "      <td>3.90</td>\n",
              "      <td>1.0</td>\n",
              "      <td>1</td>\n",
              "    </tr>\n",
              "    <tr>\n",
              "      <th>4</th>\n",
              "      <td>80.0</td>\n",
              "      <td>1.010</td>\n",
              "      <td>2.0</td>\n",
              "      <td>0.0</td>\n",
              "      <td>1.0</td>\n",
              "      <td>26.0</td>\n",
              "      <td>1.4</td>\n",
              "      <td>137.53</td>\n",
              "      <td>4.63</td>\n",
              "      <td>11.6</td>\n",
              "      <td>7300.0</td>\n",
              "      <td>4.60</td>\n",
              "      <td>0.0</td>\n",
              "      <td>1</td>\n",
              "    </tr>\n",
              "    <tr>\n",
              "      <th>...</th>\n",
              "      <td>...</td>\n",
              "      <td>...</td>\n",
              "      <td>...</td>\n",
              "      <td>...</td>\n",
              "      <td>...</td>\n",
              "      <td>...</td>\n",
              "      <td>...</td>\n",
              "      <td>...</td>\n",
              "      <td>...</td>\n",
              "      <td>...</td>\n",
              "      <td>...</td>\n",
              "      <td>...</td>\n",
              "      <td>...</td>\n",
              "      <td>...</td>\n",
              "    </tr>\n",
              "    <tr>\n",
              "      <th>395</th>\n",
              "      <td>80.0</td>\n",
              "      <td>1.020</td>\n",
              "      <td>0.0</td>\n",
              "      <td>0.0</td>\n",
              "      <td>1.0</td>\n",
              "      <td>49.0</td>\n",
              "      <td>0.5</td>\n",
              "      <td>150.00</td>\n",
              "      <td>4.90</td>\n",
              "      <td>15.7</td>\n",
              "      <td>6700.0</td>\n",
              "      <td>4.90</td>\n",
              "      <td>0.0</td>\n",
              "      <td>0</td>\n",
              "    </tr>\n",
              "    <tr>\n",
              "      <th>396</th>\n",
              "      <td>70.0</td>\n",
              "      <td>1.025</td>\n",
              "      <td>0.0</td>\n",
              "      <td>0.0</td>\n",
              "      <td>1.0</td>\n",
              "      <td>31.0</td>\n",
              "      <td>1.2</td>\n",
              "      <td>141.00</td>\n",
              "      <td>3.50</td>\n",
              "      <td>16.5</td>\n",
              "      <td>7800.0</td>\n",
              "      <td>6.20</td>\n",
              "      <td>0.0</td>\n",
              "      <td>0</td>\n",
              "    </tr>\n",
              "    <tr>\n",
              "      <th>397</th>\n",
              "      <td>80.0</td>\n",
              "      <td>1.020</td>\n",
              "      <td>0.0</td>\n",
              "      <td>0.0</td>\n",
              "      <td>1.0</td>\n",
              "      <td>26.0</td>\n",
              "      <td>0.6</td>\n",
              "      <td>137.00</td>\n",
              "      <td>4.40</td>\n",
              "      <td>15.8</td>\n",
              "      <td>6600.0</td>\n",
              "      <td>5.40</td>\n",
              "      <td>0.0</td>\n",
              "      <td>0</td>\n",
              "    </tr>\n",
              "    <tr>\n",
              "      <th>398</th>\n",
              "      <td>60.0</td>\n",
              "      <td>1.025</td>\n",
              "      <td>0.0</td>\n",
              "      <td>0.0</td>\n",
              "      <td>1.0</td>\n",
              "      <td>50.0</td>\n",
              "      <td>1.0</td>\n",
              "      <td>135.00</td>\n",
              "      <td>4.90</td>\n",
              "      <td>14.2</td>\n",
              "      <td>7200.0</td>\n",
              "      <td>5.90</td>\n",
              "      <td>0.0</td>\n",
              "      <td>0</td>\n",
              "    </tr>\n",
              "    <tr>\n",
              "      <th>399</th>\n",
              "      <td>80.0</td>\n",
              "      <td>1.025</td>\n",
              "      <td>0.0</td>\n",
              "      <td>0.0</td>\n",
              "      <td>1.0</td>\n",
              "      <td>18.0</td>\n",
              "      <td>1.1</td>\n",
              "      <td>141.00</td>\n",
              "      <td>3.50</td>\n",
              "      <td>15.8</td>\n",
              "      <td>6800.0</td>\n",
              "      <td>6.10</td>\n",
              "      <td>0.0</td>\n",
              "      <td>0</td>\n",
              "    </tr>\n",
              "  </tbody>\n",
              "</table>\n",
              "<p>400 rows × 14 columns</p>\n",
              "</div>\n",
              "      <button class=\"colab-df-convert\" onclick=\"convertToInteractive('df-108f2030-1e6f-46ad-a4c5-99303e3116d1')\"\n",
              "              title=\"Convert this dataframe to an interactive table.\"\n",
              "              style=\"display:none;\">\n",
              "        \n",
              "  <svg xmlns=\"http://www.w3.org/2000/svg\" height=\"24px\"viewBox=\"0 0 24 24\"\n",
              "       width=\"24px\">\n",
              "    <path d=\"M0 0h24v24H0V0z\" fill=\"none\"/>\n",
              "    <path d=\"M18.56 5.44l.94 2.06.94-2.06 2.06-.94-2.06-.94-.94-2.06-.94 2.06-2.06.94zm-11 1L8.5 8.5l.94-2.06 2.06-.94-2.06-.94L8.5 2.5l-.94 2.06-2.06.94zm10 10l.94 2.06.94-2.06 2.06-.94-2.06-.94-.94-2.06-.94 2.06-2.06.94z\"/><path d=\"M17.41 7.96l-1.37-1.37c-.4-.4-.92-.59-1.43-.59-.52 0-1.04.2-1.43.59L10.3 9.45l-7.72 7.72c-.78.78-.78 2.05 0 2.83L4 21.41c.39.39.9.59 1.41.59.51 0 1.02-.2 1.41-.59l7.78-7.78 2.81-2.81c.8-.78.8-2.07 0-2.86zM5.41 20L4 18.59l7.72-7.72 1.47 1.35L5.41 20z\"/>\n",
              "  </svg>\n",
              "      </button>\n",
              "      \n",
              "  <style>\n",
              "    .colab-df-container {\n",
              "      display:flex;\n",
              "      flex-wrap:wrap;\n",
              "      gap: 12px;\n",
              "    }\n",
              "\n",
              "    .colab-df-convert {\n",
              "      background-color: #E8F0FE;\n",
              "      border: none;\n",
              "      border-radius: 50%;\n",
              "      cursor: pointer;\n",
              "      display: none;\n",
              "      fill: #1967D2;\n",
              "      height: 32px;\n",
              "      padding: 0 0 0 0;\n",
              "      width: 32px;\n",
              "    }\n",
              "\n",
              "    .colab-df-convert:hover {\n",
              "      background-color: #E2EBFA;\n",
              "      box-shadow: 0px 1px 2px rgba(60, 64, 67, 0.3), 0px 1px 3px 1px rgba(60, 64, 67, 0.15);\n",
              "      fill: #174EA6;\n",
              "    }\n",
              "\n",
              "    [theme=dark] .colab-df-convert {\n",
              "      background-color: #3B4455;\n",
              "      fill: #D2E3FC;\n",
              "    }\n",
              "\n",
              "    [theme=dark] .colab-df-convert:hover {\n",
              "      background-color: #434B5C;\n",
              "      box-shadow: 0px 1px 3px 1px rgba(0, 0, 0, 0.15);\n",
              "      filter: drop-shadow(0px 1px 2px rgba(0, 0, 0, 0.3));\n",
              "      fill: #FFFFFF;\n",
              "    }\n",
              "  </style>\n",
              "\n",
              "      <script>\n",
              "        const buttonEl =\n",
              "          document.querySelector('#df-108f2030-1e6f-46ad-a4c5-99303e3116d1 button.colab-df-convert');\n",
              "        buttonEl.style.display =\n",
              "          google.colab.kernel.accessAllowed ? 'block' : 'none';\n",
              "\n",
              "        async function convertToInteractive(key) {\n",
              "          const element = document.querySelector('#df-108f2030-1e6f-46ad-a4c5-99303e3116d1');\n",
              "          const dataTable =\n",
              "            await google.colab.kernel.invokeFunction('convertToInteractive',\n",
              "                                                     [key], {});\n",
              "          if (!dataTable) return;\n",
              "\n",
              "          const docLinkHtml = 'Like what you see? Visit the ' +\n",
              "            '<a target=\"_blank\" href=https://colab.research.google.com/notebooks/data_table.ipynb>data table notebook</a>'\n",
              "            + ' to learn more about interactive tables.';\n",
              "          element.innerHTML = '';\n",
              "          dataTable['output_type'] = 'display_data';\n",
              "          await google.colab.output.renderOutput(dataTable, element);\n",
              "          const docLink = document.createElement('div');\n",
              "          docLink.innerHTML = docLinkHtml;\n",
              "          element.appendChild(docLink);\n",
              "        }\n",
              "      </script>\n",
              "    </div>\n",
              "  </div>\n",
              "  "
            ]
          },
          "metadata": {},
          "execution_count": 52
        }
      ]
    },
    {
      "cell_type": "code",
      "source": [
        "# Membuat hanya menampikan 2 Kolom\n",
        "selected_data = df[[\"Al\", \"Sc\"]]\n",
        "\n",
        "# Menampilkan Perintah\n",
        "print(selected_data.head())"
      ],
      "metadata": {
        "colab": {
          "base_uri": "https://localhost:8080/"
        },
        "id": "g7CqOkCWhXHO",
        "outputId": "b290555d-3407-4b4e-bf5b-5fcb88d7a688"
      },
      "execution_count": 54,
      "outputs": [
        {
          "output_type": "stream",
          "name": "stdout",
          "text": [
            "    Al   Sc\n",
            "0  1.0  1.2\n",
            "1  4.0  0.8\n",
            "2  2.0  1.8\n",
            "3  4.0  3.8\n",
            "4  2.0  1.4\n"
          ]
        }
      ]
    },
    {
      "cell_type": "code",
      "source": [
        "# Membuat hanya menampikan 3 Kolom\n",
        "selected_data = df[[\"Al\", \"Sc\", \"Class\"]]\n",
        "\n",
        "# Menampilkan Perintah\n",
        "print(selected_data.head())"
      ],
      "metadata": {
        "colab": {
          "base_uri": "https://localhost:8080/"
        },
        "id": "rLdoowxbhf_-",
        "outputId": "c30ff185-27b2-4650-b0de-578a662a58dd"
      },
      "execution_count": 55,
      "outputs": [
        {
          "output_type": "stream",
          "name": "stdout",
          "text": [
            "    Al   Sc  Class\n",
            "0  1.0  1.2      1\n",
            "1  4.0  0.8      1\n",
            "2  2.0  1.8      1\n",
            "3  4.0  3.8      1\n",
            "4  2.0  1.4      1\n"
          ]
        }
      ]
    },
    {
      "cell_type": "markdown",
      "source": [
        "# Clean Data"
      ],
      "metadata": {
        "id": "8zTjT96Oh0A2"
      }
    },
    {
      "cell_type": "code",
      "source": [
        "df.isna().sum()"
      ],
      "metadata": {
        "colab": {
          "base_uri": "https://localhost:8080/"
        },
        "id": "g-m4SSKph3sL",
        "outputId": "0bb9159c-7a64-42a7-83d0-bf2a7cc9cce4"
      },
      "execution_count": 56,
      "outputs": [
        {
          "output_type": "execute_result",
          "data": {
            "text/plain": [
              "Bp       0\n",
              "Sg       0\n",
              "Al       0\n",
              "Su       0\n",
              "Rbc      0\n",
              "Bu       0\n",
              "Sc       0\n",
              "Sod      0\n",
              "Pot      0\n",
              "Hemo     0\n",
              "Wbcc     0\n",
              "Rbcc     0\n",
              "Htn      0\n",
              "Class    0\n",
              "dtype: int64"
            ]
          },
          "metadata": {},
          "execution_count": 56
        }
      ]
    },
    {
      "cell_type": "code",
      "source": [
        "df.isna().sum() / len(df) * 100"
      ],
      "metadata": {
        "colab": {
          "base_uri": "https://localhost:8080/"
        },
        "id": "jJQYMNmfh6Im",
        "outputId": "80ebfed5-a745-4ee5-ad04-b912251ded67"
      },
      "execution_count": 57,
      "outputs": [
        {
          "output_type": "execute_result",
          "data": {
            "text/plain": [
              "Bp       0.0\n",
              "Sg       0.0\n",
              "Al       0.0\n",
              "Su       0.0\n",
              "Rbc      0.0\n",
              "Bu       0.0\n",
              "Sc       0.0\n",
              "Sod      0.0\n",
              "Pot      0.0\n",
              "Hemo     0.0\n",
              "Wbcc     0.0\n",
              "Rbcc     0.0\n",
              "Htn      0.0\n",
              "Class    0.0\n",
              "dtype: float64"
            ]
          },
          "metadata": {},
          "execution_count": 57
        }
      ]
    }
  ]
}